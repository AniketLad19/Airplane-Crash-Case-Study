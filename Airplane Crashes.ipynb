{
 "cells": [
  {
   "cell_type": "markdown",
   "id": "2e8ce1fc",
   "metadata": {},
   "source": [
    "# <h1 style='color:Blue'><center><u>*** Case Study On Airplane Crashes ***"
   ]
  },
  {
   "cell_type": "markdown",
   "id": "eb38fe2c",
   "metadata": {},
   "source": [
    "# <h1><u><center>Import Libraries</center></u></h1>"
   ]
  },
  {
   "cell_type": "code",
   "execution_count": 260,
   "id": "af06ed60",
   "metadata": {},
   "outputs": [],
   "source": [
    "import pandas as pd\n",
    "import warnings\n",
    "warnings.filterwarnings('ignore')\n",
    "import matplotlib.pyplot as plt\n",
    "import seaborn as sns\n",
    "import numpy as np"
   ]
  },
  {
   "cell_type": "markdown",
   "id": "8031a4ce",
   "metadata": {},
   "source": [
    "# <h1><u><center>Extract Dataset</center></u></h1>"
   ]
  },
  {
   "cell_type": "code",
   "execution_count": 261,
   "id": "9e54cf0a",
   "metadata": {},
   "outputs": [],
   "source": [
    "df=pd.read_csv('crash.csv')"
   ]
  },
  {
   "cell_type": "code",
   "execution_count": 262,
   "id": "f4ddbda2",
   "metadata": {
    "scrolled": true
   },
   "outputs": [
    {
     "data": {
      "text/html": [
       "<div>\n",
       "<style scoped>\n",
       "    .dataframe tbody tr th:only-of-type {\n",
       "        vertical-align: middle;\n",
       "    }\n",
       "\n",
       "    .dataframe tbody tr th {\n",
       "        vertical-align: top;\n",
       "    }\n",
       "\n",
       "    .dataframe thead th {\n",
       "        text-align: right;\n",
       "    }\n",
       "</style>\n",
       "<table border=\"1\" class=\"dataframe\">\n",
       "  <thead>\n",
       "    <tr style=\"text-align: right;\">\n",
       "      <th></th>\n",
       "      <th>Date</th>\n",
       "      <th>Time</th>\n",
       "      <th>Location</th>\n",
       "      <th>Operator</th>\n",
       "      <th>Flight #</th>\n",
       "      <th>Route</th>\n",
       "      <th>Type</th>\n",
       "      <th>Registration</th>\n",
       "      <th>cn/In</th>\n",
       "      <th>Aboard</th>\n",
       "      <th>Fatalities</th>\n",
       "      <th>Ground</th>\n",
       "      <th>Summary</th>\n",
       "    </tr>\n",
       "  </thead>\n",
       "  <tbody>\n",
       "    <tr>\n",
       "      <th>0</th>\n",
       "      <td>09/17/1908</td>\n",
       "      <td>17:18</td>\n",
       "      <td>Fort Myer, Virginia</td>\n",
       "      <td>Military - U.S. Army</td>\n",
       "      <td>NaN</td>\n",
       "      <td>Demonstration</td>\n",
       "      <td>Wright Flyer III</td>\n",
       "      <td>NaN</td>\n",
       "      <td>1</td>\n",
       "      <td>2.0</td>\n",
       "      <td>1.0</td>\n",
       "      <td>0.0</td>\n",
       "      <td>During a demonstration flight, a U.S. Army fly...</td>\n",
       "    </tr>\n",
       "    <tr>\n",
       "      <th>1</th>\n",
       "      <td>07/12/1912</td>\n",
       "      <td>06:30</td>\n",
       "      <td>AtlantiCity, New Jersey</td>\n",
       "      <td>Military - U.S. Navy</td>\n",
       "      <td>NaN</td>\n",
       "      <td>Test flight</td>\n",
       "      <td>Dirigible</td>\n",
       "      <td>NaN</td>\n",
       "      <td>NaN</td>\n",
       "      <td>5.0</td>\n",
       "      <td>5.0</td>\n",
       "      <td>0.0</td>\n",
       "      <td>First U.S. dirigible Akron exploded just offsh...</td>\n",
       "    </tr>\n",
       "    <tr>\n",
       "      <th>2</th>\n",
       "      <td>08/06/1913</td>\n",
       "      <td>NaN</td>\n",
       "      <td>Victoria, British Columbia, Canada</td>\n",
       "      <td>Private</td>\n",
       "      <td>-</td>\n",
       "      <td>NaN</td>\n",
       "      <td>Curtiss seaplane</td>\n",
       "      <td>NaN</td>\n",
       "      <td>NaN</td>\n",
       "      <td>1.0</td>\n",
       "      <td>1.0</td>\n",
       "      <td>0.0</td>\n",
       "      <td>The first fatal airplane accident in Canada oc...</td>\n",
       "    </tr>\n",
       "    <tr>\n",
       "      <th>3</th>\n",
       "      <td>09/09/1913</td>\n",
       "      <td>18:30</td>\n",
       "      <td>Over the North Sea</td>\n",
       "      <td>Military - German Navy</td>\n",
       "      <td>NaN</td>\n",
       "      <td>NaN</td>\n",
       "      <td>Zeppelin L-1 (airship)</td>\n",
       "      <td>NaN</td>\n",
       "      <td>NaN</td>\n",
       "      <td>20.0</td>\n",
       "      <td>14.0</td>\n",
       "      <td>0.0</td>\n",
       "      <td>The airship flew into a thunderstorm and encou...</td>\n",
       "    </tr>\n",
       "    <tr>\n",
       "      <th>4</th>\n",
       "      <td>10/17/1913</td>\n",
       "      <td>10:30</td>\n",
       "      <td>Near Johannisthal, Germany</td>\n",
       "      <td>Military - German Navy</td>\n",
       "      <td>NaN</td>\n",
       "      <td>NaN</td>\n",
       "      <td>Zeppelin L-2 (airship)</td>\n",
       "      <td>NaN</td>\n",
       "      <td>NaN</td>\n",
       "      <td>30.0</td>\n",
       "      <td>30.0</td>\n",
       "      <td>0.0</td>\n",
       "      <td>Hydrogen gas which was being vented was sucked...</td>\n",
       "    </tr>\n",
       "  </tbody>\n",
       "</table>\n",
       "</div>"
      ],
      "text/plain": [
       "         Date   Time                            Location  \\\n",
       "0  09/17/1908  17:18                 Fort Myer, Virginia   \n",
       "1  07/12/1912  06:30             AtlantiCity, New Jersey   \n",
       "2  08/06/1913    NaN  Victoria, British Columbia, Canada   \n",
       "3  09/09/1913  18:30                  Over the North Sea   \n",
       "4  10/17/1913  10:30          Near Johannisthal, Germany   \n",
       "\n",
       "                 Operator Flight #          Route                    Type  \\\n",
       "0    Military - U.S. Army      NaN  Demonstration        Wright Flyer III   \n",
       "1    Military - U.S. Navy      NaN    Test flight               Dirigible   \n",
       "2                 Private        -            NaN        Curtiss seaplane   \n",
       "3  Military - German Navy      NaN            NaN  Zeppelin L-1 (airship)   \n",
       "4  Military - German Navy      NaN            NaN  Zeppelin L-2 (airship)   \n",
       "\n",
       "  Registration cn/In  Aboard  Fatalities  Ground  \\\n",
       "0          NaN     1     2.0         1.0     0.0   \n",
       "1          NaN   NaN     5.0         5.0     0.0   \n",
       "2          NaN   NaN     1.0         1.0     0.0   \n",
       "3          NaN   NaN    20.0        14.0     0.0   \n",
       "4          NaN   NaN    30.0        30.0     0.0   \n",
       "\n",
       "                                             Summary  \n",
       "0  During a demonstration flight, a U.S. Army fly...  \n",
       "1  First U.S. dirigible Akron exploded just offsh...  \n",
       "2  The first fatal airplane accident in Canada oc...  \n",
       "3  The airship flew into a thunderstorm and encou...  \n",
       "4  Hydrogen gas which was being vented was sucked...  "
      ]
     },
     "execution_count": 262,
     "metadata": {},
     "output_type": "execute_result"
    }
   ],
   "source": [
    "df.head()"
   ]
  },
  {
   "cell_type": "markdown",
   "id": "16bb9852",
   "metadata": {},
   "source": [
    "### Showing Columns present in this dataset"
   ]
  },
  {
   "cell_type": "code",
   "execution_count": 263,
   "id": "71329003",
   "metadata": {},
   "outputs": [
    {
     "data": {
      "text/plain": [
       "Index(['Date', 'Time', 'Location', 'Operator', 'Flight #', 'Route', 'Type',\n",
       "       'Registration', 'cn/In', 'Aboard', 'Fatalities', 'Ground', 'Summary'],\n",
       "      dtype='object')"
      ]
     },
     "execution_count": 263,
     "metadata": {},
     "output_type": "execute_result"
    }
   ],
   "source": [
    "df.columns"
   ]
  },
  {
   "cell_type": "markdown",
   "id": "0b799cb4",
   "metadata": {},
   "source": [
    "## Defining shape of Above Data"
   ]
  },
  {
   "cell_type": "code",
   "execution_count": 264,
   "id": "32e9893b",
   "metadata": {},
   "outputs": [
    {
     "data": {
      "text/plain": [
       "(5268, 13)"
      ]
     },
     "execution_count": 264,
     "metadata": {},
     "output_type": "execute_result"
    }
   ],
   "source": [
    "df.shape"
   ]
  },
  {
   "cell_type": "markdown",
   "id": "98fad13c",
   "metadata": {},
   "source": [
    "* There are 13 columns and 5268 rows"
   ]
  },
  {
   "cell_type": "markdown",
   "id": "960c140e",
   "metadata": {},
   "source": [
    "## <u>Finding Basic Information of Datasets"
   ]
  },
  {
   "cell_type": "code",
   "execution_count": 265,
   "id": "ba55c87e",
   "metadata": {},
   "outputs": [
    {
     "name": "stdout",
     "output_type": "stream",
     "text": [
      "<class 'pandas.core.frame.DataFrame'>\n",
      "RangeIndex: 5268 entries, 0 to 5267\n",
      "Data columns (total 13 columns):\n",
      " #   Column        Non-Null Count  Dtype  \n",
      "---  ------        --------------  -----  \n",
      " 0   Date          5268 non-null   object \n",
      " 1   Time          3049 non-null   object \n",
      " 2   Location      5248 non-null   object \n",
      " 3   Operator      5250 non-null   object \n",
      " 4   Flight #      1069 non-null   object \n",
      " 5   Route         3562 non-null   object \n",
      " 6   Type          5241 non-null   object \n",
      " 7   Registration  4933 non-null   object \n",
      " 8   cn/In         4040 non-null   object \n",
      " 9   Aboard        5246 non-null   float64\n",
      " 10  Fatalities    5256 non-null   float64\n",
      " 11  Ground        5246 non-null   float64\n",
      " 12  Summary       4878 non-null   object \n",
      "dtypes: float64(3), object(10)\n",
      "memory usage: 535.2+ KB\n"
     ]
    }
   ],
   "source": [
    "df.info()"
   ]
  },
  {
   "cell_type": "markdown",
   "id": "1ec7671e",
   "metadata": {},
   "source": [
    "* there is null data present in each column except date\n",
    "* large number of null data is present in Flight column\n",
    "* there is a total of 10 categorical and 3 numerical columns"
   ]
  },
  {
   "cell_type": "markdown",
   "id": "054ac875",
   "metadata": {},
   "source": [
    "### <h1 style=\"color:red\"><u>Sum of Null Values in dataset</u></h1>"
   ]
  },
  {
   "cell_type": "markdown",
   "id": "ba181f12",
   "metadata": {},
   "source": [
    "### Finding null values from dataset"
   ]
  },
  {
   "cell_type": "code",
   "execution_count": 266,
   "id": "a4b73cfa",
   "metadata": {},
   "outputs": [
    {
     "data": {
      "text/plain": [
       "Date               0\n",
       "Time            2219\n",
       "Location          20\n",
       "Operator          18\n",
       "Flight #        4199\n",
       "Route           1706\n",
       "Type              27\n",
       "Registration     335\n",
       "cn/In           1228\n",
       "Aboard            22\n",
       "Fatalities        12\n",
       "Ground            22\n",
       "Summary          390\n",
       "dtype: int64"
      ]
     },
     "execution_count": 266,
     "metadata": {},
     "output_type": "execute_result"
    }
   ],
   "source": [
    "df.isnull().sum()"
   ]
  },
  {
   "cell_type": "markdown",
   "id": "39430c86",
   "metadata": {},
   "source": [
    "* by using this formula we can assume the null data present in columns"
   ]
  },
  {
   "cell_type": "markdown",
   "id": "4ea17079",
   "metadata": {},
   "source": [
    "### Finding percentage of null value from dataset"
   ]
  },
  {
   "cell_type": "code",
   "execution_count": 267,
   "id": "3f76d914",
   "metadata": {},
   "outputs": [
    {
     "data": {
      "text/plain": [
       "Date             0.000000\n",
       "Time            42.122248\n",
       "Location         0.379651\n",
       "Operator         0.341686\n",
       "Flight #        79.707669\n",
       "Route           32.384207\n",
       "Type             0.512528\n",
       "Registration     6.359150\n",
       "cn/In           23.310554\n",
       "Aboard           0.417616\n",
       "Fatalities       0.227790\n",
       "Ground           0.417616\n",
       "Summary          7.403189\n",
       "dtype: float64"
      ]
     },
     "execution_count": 267,
     "metadata": {},
     "output_type": "execute_result"
    }
   ],
   "source": [
    "df.isnull().sum()/len(df)*100"
   ]
  },
  {
   "cell_type": "markdown",
   "id": "a143af74",
   "metadata": {},
   "source": [
    "* Searching for columns having a large amount of null data to drop it\n",
    "* if a column contains atleast 50% of null data it will be dropped\n",
    "* we need Time column for making insights of situations "
   ]
  },
  {
   "cell_type": "markdown",
   "id": "af921b5e",
   "metadata": {},
   "source": [
    "### Dropping columns which has more than 50% of null data"
   ]
  },
  {
   "cell_type": "code",
   "execution_count": 268,
   "id": "470639a0",
   "metadata": {},
   "outputs": [],
   "source": [
    "df.drop(['Flight #', 'Registration', 'cn/In','Time'], axis=1,inplace=True)"
   ]
  },
  {
   "cell_type": "markdown",
   "id": "4fd4509d",
   "metadata": {},
   "source": [
    "* dropping Flight table as it contains a large amount of null data\n",
    "* it contains around 79% of null data"
   ]
  },
  {
   "cell_type": "markdown",
   "id": "164de335",
   "metadata": {},
   "source": [
    "## Filling null data of remaining columns except time"
   ]
  },
  {
   "cell_type": "code",
   "execution_count": 269,
   "id": "330c2e79",
   "metadata": {},
   "outputs": [],
   "source": [
    "df['Route'] = df['Route'].fillna('Not defined')\n",
    "df['Summary'] = df['Summary'].fillna('No comments')\n",
    "df['Operator'] = df['Operator'].fillna('Unknown')\n",
    "df['Type'] = df['Type'].fillna('No Type')"
   ]
  },
  {
   "cell_type": "code",
   "execution_count": 270,
   "id": "0d715dc5",
   "metadata": {},
   "outputs": [
    {
     "data": {
      "text/html": [
       "<div>\n",
       "<style scoped>\n",
       "    .dataframe tbody tr th:only-of-type {\n",
       "        vertical-align: middle;\n",
       "    }\n",
       "\n",
       "    .dataframe tbody tr th {\n",
       "        vertical-align: top;\n",
       "    }\n",
       "\n",
       "    .dataframe thead th {\n",
       "        text-align: right;\n",
       "    }\n",
       "</style>\n",
       "<table border=\"1\" class=\"dataframe\">\n",
       "  <thead>\n",
       "    <tr style=\"text-align: right;\">\n",
       "      <th></th>\n",
       "      <th>Date</th>\n",
       "      <th>Location</th>\n",
       "      <th>Operator</th>\n",
       "      <th>Route</th>\n",
       "      <th>Type</th>\n",
       "      <th>Aboard</th>\n",
       "      <th>Fatalities</th>\n",
       "      <th>Ground</th>\n",
       "      <th>Summary</th>\n",
       "    </tr>\n",
       "  </thead>\n",
       "  <tbody>\n",
       "    <tr>\n",
       "      <th>0</th>\n",
       "      <td>09/17/1908</td>\n",
       "      <td>Fort Myer, Virginia</td>\n",
       "      <td>Military - U.S. Army</td>\n",
       "      <td>Demonstration</td>\n",
       "      <td>Wright Flyer III</td>\n",
       "      <td>2.0</td>\n",
       "      <td>1.0</td>\n",
       "      <td>0.0</td>\n",
       "      <td>During a demonstration flight, a U.S. Army fly...</td>\n",
       "    </tr>\n",
       "    <tr>\n",
       "      <th>1</th>\n",
       "      <td>07/12/1912</td>\n",
       "      <td>AtlantiCity, New Jersey</td>\n",
       "      <td>Military - U.S. Navy</td>\n",
       "      <td>Test flight</td>\n",
       "      <td>Dirigible</td>\n",
       "      <td>5.0</td>\n",
       "      <td>5.0</td>\n",
       "      <td>0.0</td>\n",
       "      <td>First U.S. dirigible Akron exploded just offsh...</td>\n",
       "    </tr>\n",
       "    <tr>\n",
       "      <th>2</th>\n",
       "      <td>08/06/1913</td>\n",
       "      <td>Victoria, British Columbia, Canada</td>\n",
       "      <td>Private</td>\n",
       "      <td>Not defined</td>\n",
       "      <td>Curtiss seaplane</td>\n",
       "      <td>1.0</td>\n",
       "      <td>1.0</td>\n",
       "      <td>0.0</td>\n",
       "      <td>The first fatal airplane accident in Canada oc...</td>\n",
       "    </tr>\n",
       "    <tr>\n",
       "      <th>3</th>\n",
       "      <td>09/09/1913</td>\n",
       "      <td>Over the North Sea</td>\n",
       "      <td>Military - German Navy</td>\n",
       "      <td>Not defined</td>\n",
       "      <td>Zeppelin L-1 (airship)</td>\n",
       "      <td>20.0</td>\n",
       "      <td>14.0</td>\n",
       "      <td>0.0</td>\n",
       "      <td>The airship flew into a thunderstorm and encou...</td>\n",
       "    </tr>\n",
       "    <tr>\n",
       "      <th>4</th>\n",
       "      <td>10/17/1913</td>\n",
       "      <td>Near Johannisthal, Germany</td>\n",
       "      <td>Military - German Navy</td>\n",
       "      <td>Not defined</td>\n",
       "      <td>Zeppelin L-2 (airship)</td>\n",
       "      <td>30.0</td>\n",
       "      <td>30.0</td>\n",
       "      <td>0.0</td>\n",
       "      <td>Hydrogen gas which was being vented was sucked...</td>\n",
       "    </tr>\n",
       "    <tr>\n",
       "      <th>5</th>\n",
       "      <td>03/05/1915</td>\n",
       "      <td>Tienen, Belgium</td>\n",
       "      <td>Military - German Navy</td>\n",
       "      <td>Not defined</td>\n",
       "      <td>Zeppelin L-8 (airship)</td>\n",
       "      <td>41.0</td>\n",
       "      <td>21.0</td>\n",
       "      <td>0.0</td>\n",
       "      <td>Crashed into trees while attempting to land af...</td>\n",
       "    </tr>\n",
       "    <tr>\n",
       "      <th>6</th>\n",
       "      <td>09/03/1915</td>\n",
       "      <td>Off Cuxhaven, Germany</td>\n",
       "      <td>Military - German Navy</td>\n",
       "      <td>Not defined</td>\n",
       "      <td>Zeppelin L-10 (airship)</td>\n",
       "      <td>19.0</td>\n",
       "      <td>19.0</td>\n",
       "      <td>0.0</td>\n",
       "      <td>Exploded and burned near Neuwerk Island,  when...</td>\n",
       "    </tr>\n",
       "    <tr>\n",
       "      <th>7</th>\n",
       "      <td>07/28/1916</td>\n",
       "      <td>Near Jambol, Bulgeria</td>\n",
       "      <td>Military - German Army</td>\n",
       "      <td>Not defined</td>\n",
       "      <td>Schutte-Lanz S-L-10 (airship)</td>\n",
       "      <td>20.0</td>\n",
       "      <td>20.0</td>\n",
       "      <td>0.0</td>\n",
       "      <td>Crashed near the Black Sea, cause unknown.</td>\n",
       "    </tr>\n",
       "    <tr>\n",
       "      <th>8</th>\n",
       "      <td>09/24/1916</td>\n",
       "      <td>Billericay, England</td>\n",
       "      <td>Military - German Navy</td>\n",
       "      <td>Not defined</td>\n",
       "      <td>Zeppelin L-32 (airship)</td>\n",
       "      <td>22.0</td>\n",
       "      <td>22.0</td>\n",
       "      <td>0.0</td>\n",
       "      <td>Shot down by British aircraft crashing in flames.</td>\n",
       "    </tr>\n",
       "    <tr>\n",
       "      <th>9</th>\n",
       "      <td>10/01/1916</td>\n",
       "      <td>Potters Bar, England</td>\n",
       "      <td>Military - German Navy</td>\n",
       "      <td>Not defined</td>\n",
       "      <td>Zeppelin L-31 (airship)</td>\n",
       "      <td>19.0</td>\n",
       "      <td>19.0</td>\n",
       "      <td>0.0</td>\n",
       "      <td>Shot down in flames by the British 39th Home D...</td>\n",
       "    </tr>\n",
       "    <tr>\n",
       "      <th>10</th>\n",
       "      <td>11/21/1916</td>\n",
       "      <td>Mainz, Germany</td>\n",
       "      <td>Military - German Army</td>\n",
       "      <td>Not defined</td>\n",
       "      <td>Super Zeppelin (airship)</td>\n",
       "      <td>28.0</td>\n",
       "      <td>27.0</td>\n",
       "      <td>0.0</td>\n",
       "      <td>Crashed in a storm.</td>\n",
       "    </tr>\n",
       "    <tr>\n",
       "      <th>11</th>\n",
       "      <td>11/28/1916</td>\n",
       "      <td>Off West Hartlepool, England</td>\n",
       "      <td>Military - German Navy</td>\n",
       "      <td>Not defined</td>\n",
       "      <td>Zeppelin L-34 (airship)</td>\n",
       "      <td>20.0</td>\n",
       "      <td>20.0</td>\n",
       "      <td>0.0</td>\n",
       "      <td>Shot down by British anti-aircraft fire and ai...</td>\n",
       "    </tr>\n",
       "    <tr>\n",
       "      <th>12</th>\n",
       "      <td>03/04/1917</td>\n",
       "      <td>Near Gent, Belgium</td>\n",
       "      <td>Military - German Army</td>\n",
       "      <td>Not defined</td>\n",
       "      <td>Airship</td>\n",
       "      <td>20.0</td>\n",
       "      <td>20.0</td>\n",
       "      <td>0.0</td>\n",
       "      <td>Caught fire and crashed.</td>\n",
       "    </tr>\n",
       "    <tr>\n",
       "      <th>13</th>\n",
       "      <td>03/30/1917</td>\n",
       "      <td>Off Northern Germany</td>\n",
       "      <td>Military - German Navy</td>\n",
       "      <td>Not defined</td>\n",
       "      <td>Schutte-Lanz S-L-9 (airship)</td>\n",
       "      <td>23.0</td>\n",
       "      <td>23.0</td>\n",
       "      <td>0.0</td>\n",
       "      <td>Struck by lightning and crashed into the Balti...</td>\n",
       "    </tr>\n",
       "    <tr>\n",
       "      <th>14</th>\n",
       "      <td>05/14/1917</td>\n",
       "      <td>Near Texel Island, North Sea</td>\n",
       "      <td>Military - German Navy</td>\n",
       "      <td>Not defined</td>\n",
       "      <td>Zeppelin L-22 (airship)</td>\n",
       "      <td>21.0</td>\n",
       "      <td>21.0</td>\n",
       "      <td>0.0</td>\n",
       "      <td>Crashed into the sea from an altitude of 3,000...</td>\n",
       "    </tr>\n",
       "    <tr>\n",
       "      <th>15</th>\n",
       "      <td>06/14/1917</td>\n",
       "      <td>Off Vlieland Island, North Sea</td>\n",
       "      <td>Military - German Navy</td>\n",
       "      <td>Not defined</td>\n",
       "      <td>Zeppelin L-43 (airship)</td>\n",
       "      <td>24.0</td>\n",
       "      <td>24.0</td>\n",
       "      <td>0.0</td>\n",
       "      <td>Shot down by British aircraft.</td>\n",
       "    </tr>\n",
       "    <tr>\n",
       "      <th>16</th>\n",
       "      <td>08/21/1917</td>\n",
       "      <td>Off western Denmark</td>\n",
       "      <td>Military - German Navy</td>\n",
       "      <td>Not defined</td>\n",
       "      <td>Zeppelin L-23 (airship)</td>\n",
       "      <td>18.0</td>\n",
       "      <td>18.0</td>\n",
       "      <td>0.0</td>\n",
       "      <td>Shot down by British aircraft.</td>\n",
       "    </tr>\n",
       "    <tr>\n",
       "      <th>17</th>\n",
       "      <td>10/20/1917</td>\n",
       "      <td>Near Luneville, France</td>\n",
       "      <td>Military - German Navy</td>\n",
       "      <td>Not defined</td>\n",
       "      <td>Zeppelin L-44 (airship)</td>\n",
       "      <td>18.0</td>\n",
       "      <td>18.0</td>\n",
       "      <td>0.0</td>\n",
       "      <td>Shot down by French anti-aircraft fire.</td>\n",
       "    </tr>\n",
       "    <tr>\n",
       "      <th>18</th>\n",
       "      <td>04/07/1918</td>\n",
       "      <td>Over the Mediterranean</td>\n",
       "      <td>Military - German Navy</td>\n",
       "      <td>Not defined</td>\n",
       "      <td>Zeppelin L-59 (airship)</td>\n",
       "      <td>23.0</td>\n",
       "      <td>23.0</td>\n",
       "      <td>0.0</td>\n",
       "      <td>Exploded and crashed into the sea off the sout...</td>\n",
       "    </tr>\n",
       "    <tr>\n",
       "      <th>19</th>\n",
       "      <td>05/10/1918</td>\n",
       "      <td>Off Helgoland Island, Germany</td>\n",
       "      <td>Military - German Navy</td>\n",
       "      <td>Not defined</td>\n",
       "      <td>Zeppelin L-70 (airship)</td>\n",
       "      <td>22.0</td>\n",
       "      <td>22.0</td>\n",
       "      <td>0.0</td>\n",
       "      <td>Shot down by British aircraft crashing from a ...</td>\n",
       "    </tr>\n",
       "  </tbody>\n",
       "</table>\n",
       "</div>"
      ],
      "text/plain": [
       "          Date                            Location                Operator  \\\n",
       "0   09/17/1908                 Fort Myer, Virginia    Military - U.S. Army   \n",
       "1   07/12/1912             AtlantiCity, New Jersey    Military - U.S. Navy   \n",
       "2   08/06/1913  Victoria, British Columbia, Canada                 Private   \n",
       "3   09/09/1913                  Over the North Sea  Military - German Navy   \n",
       "4   10/17/1913          Near Johannisthal, Germany  Military - German Navy   \n",
       "5   03/05/1915                     Tienen, Belgium  Military - German Navy   \n",
       "6   09/03/1915               Off Cuxhaven, Germany  Military - German Navy   \n",
       "7   07/28/1916               Near Jambol, Bulgeria  Military - German Army   \n",
       "8   09/24/1916                 Billericay, England  Military - German Navy   \n",
       "9   10/01/1916                Potters Bar, England  Military - German Navy   \n",
       "10  11/21/1916                      Mainz, Germany  Military - German Army   \n",
       "11  11/28/1916        Off West Hartlepool, England  Military - German Navy   \n",
       "12  03/04/1917                  Near Gent, Belgium  Military - German Army   \n",
       "13  03/30/1917                Off Northern Germany  Military - German Navy   \n",
       "14  05/14/1917        Near Texel Island, North Sea  Military - German Navy   \n",
       "15  06/14/1917      Off Vlieland Island, North Sea  Military - German Navy   \n",
       "16  08/21/1917                 Off western Denmark  Military - German Navy   \n",
       "17  10/20/1917              Near Luneville, France  Military - German Navy   \n",
       "18  04/07/1918              Over the Mediterranean  Military - German Navy   \n",
       "19  05/10/1918       Off Helgoland Island, Germany  Military - German Navy   \n",
       "\n",
       "            Route                           Type  Aboard  Fatalities  Ground  \\\n",
       "0   Demonstration               Wright Flyer III     2.0         1.0     0.0   \n",
       "1     Test flight                      Dirigible     5.0         5.0     0.0   \n",
       "2     Not defined               Curtiss seaplane     1.0         1.0     0.0   \n",
       "3     Not defined         Zeppelin L-1 (airship)    20.0        14.0     0.0   \n",
       "4     Not defined         Zeppelin L-2 (airship)    30.0        30.0     0.0   \n",
       "5     Not defined         Zeppelin L-8 (airship)    41.0        21.0     0.0   \n",
       "6     Not defined        Zeppelin L-10 (airship)    19.0        19.0     0.0   \n",
       "7     Not defined  Schutte-Lanz S-L-10 (airship)    20.0        20.0     0.0   \n",
       "8     Not defined        Zeppelin L-32 (airship)    22.0        22.0     0.0   \n",
       "9     Not defined        Zeppelin L-31 (airship)    19.0        19.0     0.0   \n",
       "10    Not defined       Super Zeppelin (airship)    28.0        27.0     0.0   \n",
       "11    Not defined        Zeppelin L-34 (airship)    20.0        20.0     0.0   \n",
       "12    Not defined                        Airship    20.0        20.0     0.0   \n",
       "13    Not defined   Schutte-Lanz S-L-9 (airship)    23.0        23.0     0.0   \n",
       "14    Not defined        Zeppelin L-22 (airship)    21.0        21.0     0.0   \n",
       "15    Not defined        Zeppelin L-43 (airship)    24.0        24.0     0.0   \n",
       "16    Not defined        Zeppelin L-23 (airship)    18.0        18.0     0.0   \n",
       "17    Not defined        Zeppelin L-44 (airship)    18.0        18.0     0.0   \n",
       "18    Not defined        Zeppelin L-59 (airship)    23.0        23.0     0.0   \n",
       "19    Not defined        Zeppelin L-70 (airship)    22.0        22.0     0.0   \n",
       "\n",
       "                                              Summary  \n",
       "0   During a demonstration flight, a U.S. Army fly...  \n",
       "1   First U.S. dirigible Akron exploded just offsh...  \n",
       "2   The first fatal airplane accident in Canada oc...  \n",
       "3   The airship flew into a thunderstorm and encou...  \n",
       "4   Hydrogen gas which was being vented was sucked...  \n",
       "5   Crashed into trees while attempting to land af...  \n",
       "6   Exploded and burned near Neuwerk Island,  when...  \n",
       "7          Crashed near the Black Sea, cause unknown.  \n",
       "8   Shot down by British aircraft crashing in flames.  \n",
       "9   Shot down in flames by the British 39th Home D...  \n",
       "10                                Crashed in a storm.  \n",
       "11  Shot down by British anti-aircraft fire and ai...  \n",
       "12                           Caught fire and crashed.  \n",
       "13  Struck by lightning and crashed into the Balti...  \n",
       "14  Crashed into the sea from an altitude of 3,000...  \n",
       "15                     Shot down by British aircraft.  \n",
       "16                     Shot down by British aircraft.  \n",
       "17            Shot down by French anti-aircraft fire.  \n",
       "18  Exploded and crashed into the sea off the sout...  \n",
       "19  Shot down by British aircraft crashing from a ...  "
      ]
     },
     "execution_count": 270,
     "metadata": {},
     "output_type": "execute_result"
    }
   ],
   "source": [
    "df.head(20)"
   ]
  },
  {
   "cell_type": "markdown",
   "id": "2cea7997",
   "metadata": {},
   "source": [
    "* it shows 1st 20 rows of data present in this file"
   ]
  },
  {
   "cell_type": "markdown",
   "id": "e0d1fb75",
   "metadata": {},
   "source": [
    "### finding out fatalities of people killed on ground"
   ]
  },
  {
   "cell_type": "code",
   "execution_count": 271,
   "id": "422fdc9d",
   "metadata": {},
   "outputs": [
    {
     "data": {
      "text/plain": [
       "0.0       5027\n",
       "1.0         53\n",
       "2.0         27\n",
       "3.0         21\n",
       "4.0         15\n",
       "5.0         10\n",
       "8.0         10\n",
       "7.0          8\n",
       "11.0         6\n",
       "6.0          6\n",
       "22.0         5\n",
       "13.0         4\n",
       "24.0         3\n",
       "10.0         3\n",
       "44.0         3\n",
       "20.0         3\n",
       "14.0         2\n",
       "2750.0       2\n",
       "30.0         2\n",
       "12.0         2\n",
       "19.0         2\n",
       "47.0         2\n",
       "52.0         2\n",
       "70.0         2\n",
       "54.0         1\n",
       "18.0         1\n",
       "45.0         1\n",
       "16.0         1\n",
       "35.0         1\n",
       "50.0         1\n",
       "23.0         1\n",
       "225.0        1\n",
       "125.0        1\n",
       "75.0         1\n",
       "15.0         1\n",
       "32.0         1\n",
       "49.0         1\n",
       "9.0          1\n",
       "40.0         1\n",
       "36.0         1\n",
       "113.0        1\n",
       "107.0        1\n",
       "33.0         1\n",
       "87.0         1\n",
       "31.0         1\n",
       "63.0         1\n",
       "17.0         1\n",
       "37.0         1\n",
       "58.0         1\n",
       "85.0         1\n",
       "Name: Ground, dtype: int64"
      ]
     },
     "execution_count": 271,
     "metadata": {},
     "output_type": "execute_result"
    }
   ],
   "source": [
    "df['Ground'].value_counts()"
   ]
  },
  {
   "cell_type": "markdown",
   "id": "ff8ec3e0",
   "metadata": {},
   "source": [
    "* finding out the fatalities by the planes with respect to ground\n",
    "* as we can see there are some large amount of fatalities\n",
    "* in 2 airplane crashes, nearly 2750 people died."
   ]
  },
  {
   "cell_type": "code",
   "execution_count": 272,
   "id": "966e120f",
   "metadata": {},
   "outputs": [
    {
     "data": {
      "text/html": [
       "<div>\n",
       "<style scoped>\n",
       "    .dataframe tbody tr th:only-of-type {\n",
       "        vertical-align: middle;\n",
       "    }\n",
       "\n",
       "    .dataframe tbody tr th {\n",
       "        vertical-align: top;\n",
       "    }\n",
       "\n",
       "    .dataframe thead th {\n",
       "        text-align: right;\n",
       "    }\n",
       "</style>\n",
       "<table border=\"1\" class=\"dataframe\">\n",
       "  <thead>\n",
       "    <tr style=\"text-align: right;\">\n",
       "      <th></th>\n",
       "      <th>Date</th>\n",
       "      <th>Location</th>\n",
       "      <th>Operator</th>\n",
       "      <th>Route</th>\n",
       "      <th>Type</th>\n",
       "      <th>Aboard</th>\n",
       "      <th>Fatalities</th>\n",
       "      <th>Ground</th>\n",
       "      <th>Summary</th>\n",
       "      <th>Survived</th>\n",
       "    </tr>\n",
       "  </thead>\n",
       "  <tbody>\n",
       "    <tr>\n",
       "      <th>0</th>\n",
       "      <td>09/17/1908</td>\n",
       "      <td>Fort Myer, Virginia</td>\n",
       "      <td>Military - U.S. Army</td>\n",
       "      <td>Demonstration</td>\n",
       "      <td>Wright Flyer III</td>\n",
       "      <td>2.0</td>\n",
       "      <td>1.0</td>\n",
       "      <td>0.0</td>\n",
       "      <td>During a demonstration flight, a U.S. Army fly...</td>\n",
       "      <td>1.0</td>\n",
       "    </tr>\n",
       "    <tr>\n",
       "      <th>1</th>\n",
       "      <td>07/12/1912</td>\n",
       "      <td>AtlantiCity, New Jersey</td>\n",
       "      <td>Military - U.S. Navy</td>\n",
       "      <td>Test flight</td>\n",
       "      <td>Dirigible</td>\n",
       "      <td>5.0</td>\n",
       "      <td>5.0</td>\n",
       "      <td>0.0</td>\n",
       "      <td>First U.S. dirigible Akron exploded just offsh...</td>\n",
       "      <td>0.0</td>\n",
       "    </tr>\n",
       "    <tr>\n",
       "      <th>2</th>\n",
       "      <td>08/06/1913</td>\n",
       "      <td>Victoria, British Columbia, Canada</td>\n",
       "      <td>Private</td>\n",
       "      <td>Not defined</td>\n",
       "      <td>Curtiss seaplane</td>\n",
       "      <td>1.0</td>\n",
       "      <td>1.0</td>\n",
       "      <td>0.0</td>\n",
       "      <td>The first fatal airplane accident in Canada oc...</td>\n",
       "      <td>0.0</td>\n",
       "    </tr>\n",
       "    <tr>\n",
       "      <th>3</th>\n",
       "      <td>09/09/1913</td>\n",
       "      <td>Over the North Sea</td>\n",
       "      <td>Military - German Navy</td>\n",
       "      <td>Not defined</td>\n",
       "      <td>Zeppelin L-1 (airship)</td>\n",
       "      <td>20.0</td>\n",
       "      <td>14.0</td>\n",
       "      <td>0.0</td>\n",
       "      <td>The airship flew into a thunderstorm and encou...</td>\n",
       "      <td>6.0</td>\n",
       "    </tr>\n",
       "    <tr>\n",
       "      <th>4</th>\n",
       "      <td>10/17/1913</td>\n",
       "      <td>Near Johannisthal, Germany</td>\n",
       "      <td>Military - German Navy</td>\n",
       "      <td>Not defined</td>\n",
       "      <td>Zeppelin L-2 (airship)</td>\n",
       "      <td>30.0</td>\n",
       "      <td>30.0</td>\n",
       "      <td>0.0</td>\n",
       "      <td>Hydrogen gas which was being vented was sucked...</td>\n",
       "      <td>0.0</td>\n",
       "    </tr>\n",
       "  </tbody>\n",
       "</table>\n",
       "</div>"
      ],
      "text/plain": [
       "         Date                            Location                Operator  \\\n",
       "0  09/17/1908                 Fort Myer, Virginia    Military - U.S. Army   \n",
       "1  07/12/1912             AtlantiCity, New Jersey    Military - U.S. Navy   \n",
       "2  08/06/1913  Victoria, British Columbia, Canada                 Private   \n",
       "3  09/09/1913                  Over the North Sea  Military - German Navy   \n",
       "4  10/17/1913          Near Johannisthal, Germany  Military - German Navy   \n",
       "\n",
       "           Route                    Type  Aboard  Fatalities  Ground  \\\n",
       "0  Demonstration        Wright Flyer III     2.0         1.0     0.0   \n",
       "1    Test flight               Dirigible     5.0         5.0     0.0   \n",
       "2    Not defined        Curtiss seaplane     1.0         1.0     0.0   \n",
       "3    Not defined  Zeppelin L-1 (airship)    20.0        14.0     0.0   \n",
       "4    Not defined  Zeppelin L-2 (airship)    30.0        30.0     0.0   \n",
       "\n",
       "                                             Summary  Survived  \n",
       "0  During a demonstration flight, a U.S. Army fly...       1.0  \n",
       "1  First U.S. dirigible Akron exploded just offsh...       0.0  \n",
       "2  The first fatal airplane accident in Canada oc...       0.0  \n",
       "3  The airship flew into a thunderstorm and encou...       6.0  \n",
       "4  Hydrogen gas which was being vented was sucked...       0.0  "
      ]
     },
     "execution_count": 272,
     "metadata": {},
     "output_type": "execute_result"
    }
   ],
   "source": [
    "df['Survived'] = df['Aboard'] - (df['Fatalities'] + df['Ground'])\n",
    "df.Survived = np.where(df.Survived < 0, 0, df.Survived)\n",
    "df.head()"
   ]
  },
  {
   "cell_type": "markdown",
   "id": "ebbf730d",
   "metadata": {},
   "source": [
    "### finding unique records present in columns "
   ]
  },
  {
   "cell_type": "code",
   "execution_count": 273,
   "id": "7602bde8",
   "metadata": {},
   "outputs": [
    {
     "data": {
      "text/plain": [
       "Date          4753\n",
       "Location      4303\n",
       "Operator      2477\n",
       "Route         3245\n",
       "Type          2447\n",
       "Aboard         239\n",
       "Fatalities     191\n",
       "Ground          50\n",
       "Summary       4674\n",
       "Survived       165\n",
       "dtype: int64"
      ]
     },
     "execution_count": 273,
     "metadata": {},
     "output_type": "execute_result"
    }
   ],
   "source": [
    "df.nunique()"
   ]
  },
  {
   "cell_type": "markdown",
   "id": "c1fca1fc",
   "metadata": {},
   "source": [
    "### transfroming statistical information of certain columns for better understanding  "
   ]
  },
  {
   "cell_type": "code",
   "execution_count": 274,
   "id": "acfcc6a1",
   "metadata": {},
   "outputs": [
    {
     "data": {
      "text/html": [
       "<div>\n",
       "<style scoped>\n",
       "    .dataframe tbody tr th:only-of-type {\n",
       "        vertical-align: middle;\n",
       "    }\n",
       "\n",
       "    .dataframe tbody tr th {\n",
       "        vertical-align: top;\n",
       "    }\n",
       "\n",
       "    .dataframe thead th {\n",
       "        text-align: right;\n",
       "    }\n",
       "</style>\n",
       "<table border=\"1\" class=\"dataframe\">\n",
       "  <thead>\n",
       "    <tr style=\"text-align: right;\">\n",
       "      <th></th>\n",
       "      <th>count</th>\n",
       "      <th>mean</th>\n",
       "      <th>std</th>\n",
       "      <th>min</th>\n",
       "      <th>25%</th>\n",
       "      <th>50%</th>\n",
       "      <th>75%</th>\n",
       "      <th>max</th>\n",
       "    </tr>\n",
       "  </thead>\n",
       "  <tbody>\n",
       "    <tr>\n",
       "      <th>Aboard</th>\n",
       "      <td>5246.0</td>\n",
       "      <td>27.554518</td>\n",
       "      <td>43.076711</td>\n",
       "      <td>0.0</td>\n",
       "      <td>5.0</td>\n",
       "      <td>13.0</td>\n",
       "      <td>30.0</td>\n",
       "      <td>644.0</td>\n",
       "    </tr>\n",
       "    <tr>\n",
       "      <th>Fatalities</th>\n",
       "      <td>5256.0</td>\n",
       "      <td>20.068303</td>\n",
       "      <td>33.199952</td>\n",
       "      <td>0.0</td>\n",
       "      <td>3.0</td>\n",
       "      <td>9.0</td>\n",
       "      <td>23.0</td>\n",
       "      <td>583.0</td>\n",
       "    </tr>\n",
       "    <tr>\n",
       "      <th>Ground</th>\n",
       "      <td>5246.0</td>\n",
       "      <td>1.608845</td>\n",
       "      <td>53.987827</td>\n",
       "      <td>0.0</td>\n",
       "      <td>0.0</td>\n",
       "      <td>0.0</td>\n",
       "      <td>0.0</td>\n",
       "      <td>2750.0</td>\n",
       "    </tr>\n",
       "    <tr>\n",
       "      <th>Survived</th>\n",
       "      <td>5236.0</td>\n",
       "      <td>7.421314</td>\n",
       "      <td>28.108456</td>\n",
       "      <td>0.0</td>\n",
       "      <td>0.0</td>\n",
       "      <td>0.0</td>\n",
       "      <td>2.0</td>\n",
       "      <td>516.0</td>\n",
       "    </tr>\n",
       "  </tbody>\n",
       "</table>\n",
       "</div>"
      ],
      "text/plain": [
       "             count       mean        std  min  25%   50%   75%     max\n",
       "Aboard      5246.0  27.554518  43.076711  0.0  5.0  13.0  30.0   644.0\n",
       "Fatalities  5256.0  20.068303  33.199952  0.0  3.0   9.0  23.0   583.0\n",
       "Ground      5246.0   1.608845  53.987827  0.0  0.0   0.0   0.0  2750.0\n",
       "Survived    5236.0   7.421314  28.108456  0.0  0.0   0.0   2.0   516.0"
      ]
     },
     "execution_count": 274,
     "metadata": {},
     "output_type": "execute_result"
    }
   ],
   "source": [
    "df.describe().T"
   ]
  },
  {
   "cell_type": "markdown",
   "id": "15d5f882",
   "metadata": {},
   "source": [
    "* maximum 516 people survived in airplane accidents\n",
    "* minimum 0 people are died in plane crashes\n",
    "* maximum 583 people died in plane crashes\n",
    "* 75% of airplane crashes resembles death count more than 20\n",
    "* maximum 644 people boraded a plane\n",
    "* maxmimum 2750 people died on ground due to airplane crashes\n",
    "* average 20 people are died in airplane crashes\n",
    "* average of 27 people abroaded a flight\n",
    "* nearly 50% of airplane crashed resembles death of 9 people more or less"
   ]
  },
  {
   "cell_type": "markdown",
   "id": "d10035f9",
   "metadata": {},
   "source": [
    "## <u>Accident of most people abroaded a flight"
   ]
  },
  {
   "cell_type": "code",
   "execution_count": 275,
   "id": "01c5e90c",
   "metadata": {},
   "outputs": [
    {
     "data": {
      "text/html": [
       "<div>\n",
       "<style scoped>\n",
       "    .dataframe tbody tr th:only-of-type {\n",
       "        vertical-align: middle;\n",
       "    }\n",
       "\n",
       "    .dataframe tbody tr th {\n",
       "        vertical-align: top;\n",
       "    }\n",
       "\n",
       "    .dataframe thead th {\n",
       "        text-align: right;\n",
       "    }\n",
       "</style>\n",
       "<table border=\"1\" class=\"dataframe\">\n",
       "  <thead>\n",
       "    <tr style=\"text-align: right;\">\n",
       "      <th></th>\n",
       "      <th>Date</th>\n",
       "      <th>Location</th>\n",
       "      <th>Operator</th>\n",
       "      <th>Route</th>\n",
       "      <th>Type</th>\n",
       "      <th>Aboard</th>\n",
       "      <th>Fatalities</th>\n",
       "      <th>Ground</th>\n",
       "      <th>Summary</th>\n",
       "      <th>Survived</th>\n",
       "    </tr>\n",
       "  </thead>\n",
       "  <tbody>\n",
       "    <tr>\n",
       "      <th>2963</th>\n",
       "      <td>03/27/1977</td>\n",
       "      <td>Tenerife, Canary Islands</td>\n",
       "      <td>Pan American World Airways / KLM</td>\n",
       "      <td>Tenerife - Las Palmas / Tenerife - Las Palmas</td>\n",
       "      <td>Boeing B-747-121 / Boeing B-747-206B</td>\n",
       "      <td>644.0</td>\n",
       "      <td>583.0</td>\n",
       "      <td>0.0</td>\n",
       "      <td>Both aircraft were diverted to Tenerife becaus...</td>\n",
       "      <td>61.0</td>\n",
       "    </tr>\n",
       "  </tbody>\n",
       "</table>\n",
       "</div>"
      ],
      "text/plain": [
       "            Date                  Location                          Operator  \\\n",
       "2963  03/27/1977  Tenerife, Canary Islands  Pan American World Airways / KLM   \n",
       "\n",
       "                                              Route  \\\n",
       "2963  Tenerife - Las Palmas / Tenerife - Las Palmas   \n",
       "\n",
       "                                      Type  Aboard  Fatalities  Ground  \\\n",
       "2963  Boeing B-747-121 / Boeing B-747-206B   644.0       583.0     0.0   \n",
       "\n",
       "                                                Summary  Survived  \n",
       "2963  Both aircraft were diverted to Tenerife becaus...      61.0  "
      ]
     },
     "execution_count": 275,
     "metadata": {},
     "output_type": "execute_result"
    }
   ],
   "source": [
    "df.loc[df['Aboard'] == 644]"
   ]
  },
  {
   "cell_type": "code",
   "execution_count": 276,
   "id": "390a0b79",
   "metadata": {},
   "outputs": [
    {
     "data": {
      "text/plain": [
       "'Both aircraft were diverted to Tenerife because of a bombing at Las Palmas Airport. After an extended delay,  both planes were instructed to back track up the runway. The KLM plane reached its takeoff point while the Pan Am plane was still on the runway. The Pan Am plane continued up the runway missing the taxiway turnout. There was heavy fog on the runway. The KLM plane began its takeoff roll without permission with the Pan Am plane still on the runway. The KLM plane hit the Pan Am plane just as it was taking off. Both planes burst into flames.  KLM 234 + 14 crew,  Pan Am 326 + 9 crew killed. All aboard the KLM plane were killed. The Pan Am aircraft was named Clipper Victor. The KLM aircraft was named Rhine River.'"
      ]
     },
     "execution_count": 276,
     "metadata": {},
     "output_type": "execute_result"
    }
   ],
   "source": [
    "df.loc[2963].Summary"
   ]
  },
  {
   "cell_type": "markdown",
   "id": "3e365e6c",
   "metadata": {},
   "source": [
    "##### This incident of most people killed occured on 27 March 1977"
   ]
  },
  {
   "cell_type": "markdown",
   "id": "b6b876cb",
   "metadata": {},
   "source": [
    "## <u>Incident of most people survived</u>"
   ]
  },
  {
   "cell_type": "code",
   "execution_count": 277,
   "id": "01d8daec",
   "metadata": {},
   "outputs": [
    {
     "data": {
      "text/html": [
       "<div>\n",
       "<style scoped>\n",
       "    .dataframe tbody tr th:only-of-type {\n",
       "        vertical-align: middle;\n",
       "    }\n",
       "\n",
       "    .dataframe tbody tr th {\n",
       "        vertical-align: top;\n",
       "    }\n",
       "\n",
       "    .dataframe thead th {\n",
       "        text-align: right;\n",
       "    }\n",
       "</style>\n",
       "<table border=\"1\" class=\"dataframe\">\n",
       "  <thead>\n",
       "    <tr style=\"text-align: right;\">\n",
       "      <th></th>\n",
       "      <th>Date</th>\n",
       "      <th>Location</th>\n",
       "      <th>Operator</th>\n",
       "      <th>Route</th>\n",
       "      <th>Type</th>\n",
       "      <th>Aboard</th>\n",
       "      <th>Fatalities</th>\n",
       "      <th>Ground</th>\n",
       "      <th>Summary</th>\n",
       "      <th>Survived</th>\n",
       "    </tr>\n",
       "  </thead>\n",
       "  <tbody>\n",
       "    <tr>\n",
       "      <th>4645</th>\n",
       "      <td>07/23/1999</td>\n",
       "      <td>Tokyo, Japan</td>\n",
       "      <td>All Nippon Airways</td>\n",
       "      <td>Tokyo, Japan - Chitose, Japan</td>\n",
       "      <td>Boeing B-747</td>\n",
       "      <td>517.0</td>\n",
       "      <td>1.0</td>\n",
       "      <td>0.0</td>\n",
       "      <td>Two minutes after taking off from Haneda Airpo...</td>\n",
       "      <td>516.0</td>\n",
       "    </tr>\n",
       "  </tbody>\n",
       "</table>\n",
       "</div>"
      ],
      "text/plain": [
       "            Date      Location            Operator  \\\n",
       "4645  07/23/1999  Tokyo, Japan  All Nippon Airways   \n",
       "\n",
       "                              Route          Type  Aboard  Fatalities  Ground  \\\n",
       "4645  Tokyo, Japan - Chitose, Japan  Boeing B-747   517.0         1.0     0.0   \n",
       "\n",
       "                                                Summary  Survived  \n",
       "4645  Two minutes after taking off from Haneda Airpo...     516.0  "
      ]
     },
     "execution_count": 277,
     "metadata": {},
     "output_type": "execute_result"
    }
   ],
   "source": [
    "df.loc[df['Survived'] == 516]"
   ]
  },
  {
   "cell_type": "code",
   "execution_count": 278,
   "id": "6e4e21af",
   "metadata": {},
   "outputs": [
    {
     "data": {
      "text/plain": [
       "'Two minutes after taking off from Haneda Airport, a man carrying a knife forced a flight attendant to take him in the cockpit of the plane.  A fan of computer flight-simulation games, he stated he just wanted to fly a real plane.  After forcing the co-pilot out of the cockpit he ordered the captain to fly to a U.S. Air Force base in western Tokyo. When he refused, he stabbed the captain and seized the controls. After a sudden drop in altitude, the co-pilot and an off duty crew member entered the cockpit and overpowered the hijacker.  A one point the plane plunged to within 984 feet of the ground. The plane ultimately  landed safely but the captain died of his injuries.'"
      ]
     },
     "execution_count": 278,
     "metadata": {},
     "output_type": "execute_result"
    }
   ],
   "source": [
    "df.loc[4645].Summary"
   ]
  },
  {
   "cell_type": "markdown",
   "id": "4eaf7c7c",
   "metadata": {},
   "source": [
    "##### This incident of most people survived occured on 23 July 1999"
   ]
  },
  {
   "cell_type": "markdown",
   "id": "03fab3c2",
   "metadata": {},
   "source": [
    "##  <u>Incident of most people died on ground</u>"
   ]
  },
  {
   "cell_type": "code",
   "execution_count": 279,
   "id": "a905151f",
   "metadata": {
    "scrolled": true
   },
   "outputs": [
    {
     "data": {
      "text/html": [
       "<div>\n",
       "<style scoped>\n",
       "    .dataframe tbody tr th:only-of-type {\n",
       "        vertical-align: middle;\n",
       "    }\n",
       "\n",
       "    .dataframe tbody tr th {\n",
       "        vertical-align: top;\n",
       "    }\n",
       "\n",
       "    .dataframe thead th {\n",
       "        text-align: right;\n",
       "    }\n",
       "</style>\n",
       "<table border=\"1\" class=\"dataframe\">\n",
       "  <thead>\n",
       "    <tr style=\"text-align: right;\">\n",
       "      <th></th>\n",
       "      <th>Date</th>\n",
       "      <th>Location</th>\n",
       "      <th>Operator</th>\n",
       "      <th>Route</th>\n",
       "      <th>Type</th>\n",
       "      <th>Aboard</th>\n",
       "      <th>Fatalities</th>\n",
       "      <th>Ground</th>\n",
       "      <th>Summary</th>\n",
       "      <th>Survived</th>\n",
       "    </tr>\n",
       "  </thead>\n",
       "  <tbody>\n",
       "    <tr>\n",
       "      <th>4803</th>\n",
       "      <td>09/11/2001</td>\n",
       "      <td>New York City, New York</td>\n",
       "      <td>American Airlines</td>\n",
       "      <td>Boston - Los Angeles</td>\n",
       "      <td>Boeing 767-223ER</td>\n",
       "      <td>92.0</td>\n",
       "      <td>92.0</td>\n",
       "      <td>2750.0</td>\n",
       "      <td>The aircraft was hijacked shortly after it lef...</td>\n",
       "      <td>0.0</td>\n",
       "    </tr>\n",
       "    <tr>\n",
       "      <th>4804</th>\n",
       "      <td>09/11/2001</td>\n",
       "      <td>New York City, New York</td>\n",
       "      <td>United Air Lines</td>\n",
       "      <td>Boston - Los Angeles</td>\n",
       "      <td>Boeing B-767-222</td>\n",
       "      <td>65.0</td>\n",
       "      <td>65.0</td>\n",
       "      <td>2750.0</td>\n",
       "      <td>The aircraft was hijacked shortly after it lef...</td>\n",
       "      <td>0.0</td>\n",
       "    </tr>\n",
       "  </tbody>\n",
       "</table>\n",
       "</div>"
      ],
      "text/plain": [
       "            Date                 Location           Operator  \\\n",
       "4803  09/11/2001  New York City, New York  American Airlines   \n",
       "4804  09/11/2001  New York City, New York   United Air Lines   \n",
       "\n",
       "                     Route              Type  Aboard  Fatalities  Ground  \\\n",
       "4803  Boston - Los Angeles  Boeing 767-223ER    92.0        92.0  2750.0   \n",
       "4804  Boston - Los Angeles  Boeing B-767-222    65.0        65.0  2750.0   \n",
       "\n",
       "                                                Summary  Survived  \n",
       "4803  The aircraft was hijacked shortly after it lef...       0.0  \n",
       "4804  The aircraft was hijacked shortly after it lef...       0.0  "
      ]
     },
     "execution_count": 279,
     "metadata": {},
     "output_type": "execute_result"
    }
   ],
   "source": [
    "df.loc[df['Ground']==2750]"
   ]
  },
  {
   "cell_type": "code",
   "execution_count": 280,
   "id": "73b62837",
   "metadata": {},
   "outputs": [
    {
     "data": {
      "text/plain": [
       "'The aircraft was hijacked shortly after it left Logan International Airport in Boston. The hijackers took control of the aircraft and deliberately crashed it into the north tower of the World Trade Center between the 94th and 99th floors at approximately 450 mph.  After 102 minutes, the building collapsed. It was one of four planes that were hijacked the same day.'"
      ]
     },
     "execution_count": 280,
     "metadata": {},
     "output_type": "execute_result"
    }
   ],
   "source": [
    "df.loc[4803].Summary"
   ]
  },
  {
   "cell_type": "code",
   "execution_count": 281,
   "id": "6ce5a413",
   "metadata": {},
   "outputs": [
    {
     "data": {
      "text/plain": [
       "'The aircraft was hijacked shortly after it left Logan International Airport in Boston. The hijackers took control of the aircraft and deliberately crashed it into the south tower of the World Trade Center between the 78th and 84th floors at approximately 550 mph. After 56 minutes, the building collapsed. It was one of four planes that were hijacked the same day.'"
      ]
     },
     "execution_count": 281,
     "metadata": {},
     "output_type": "execute_result"
    }
   ],
   "source": [
    "df.loc[4804].Summary"
   ]
  },
  {
   "cell_type": "markdown",
   "id": "9a15e8c5",
   "metadata": {},
   "source": [
    "##### This two incidents of most people killed on the ground relates to same place which occured on 11 September 2001"
   ]
  },
  {
   "cell_type": "code",
   "execution_count": 282,
   "id": "41637a2d",
   "metadata": {},
   "outputs": [
    {
     "data": {
      "text/html": [
       "<div>\n",
       "<style scoped>\n",
       "    .dataframe tbody tr th:only-of-type {\n",
       "        vertical-align: middle;\n",
       "    }\n",
       "\n",
       "    .dataframe tbody tr th {\n",
       "        vertical-align: top;\n",
       "    }\n",
       "\n",
       "    .dataframe thead th {\n",
       "        text-align: right;\n",
       "    }\n",
       "</style>\n",
       "<table border=\"1\" class=\"dataframe\">\n",
       "  <thead>\n",
       "    <tr style=\"text-align: right;\">\n",
       "      <th></th>\n",
       "      <th>Date</th>\n",
       "      <th>Location</th>\n",
       "      <th>Operator</th>\n",
       "      <th>Route</th>\n",
       "      <th>Type</th>\n",
       "      <th>Aboard</th>\n",
       "      <th>Fatalities</th>\n",
       "      <th>Ground</th>\n",
       "      <th>Summary</th>\n",
       "      <th>Survived</th>\n",
       "    </tr>\n",
       "  </thead>\n",
       "  <tbody>\n",
       "    <tr>\n",
       "      <th>0</th>\n",
       "      <td>09/17/1908</td>\n",
       "      <td>Fort Myer, Virginia</td>\n",
       "      <td>Military - U.S. Army</td>\n",
       "      <td>Demonstration</td>\n",
       "      <td>Wright Flyer III</td>\n",
       "      <td>2.0</td>\n",
       "      <td>1.0</td>\n",
       "      <td>0.0</td>\n",
       "      <td>During a demonstration flight, a U.S. Army fly...</td>\n",
       "      <td>1.0</td>\n",
       "    </tr>\n",
       "    <tr>\n",
       "      <th>1</th>\n",
       "      <td>07/12/1912</td>\n",
       "      <td>AtlantiCity, New Jersey</td>\n",
       "      <td>Military - U.S. Navy</td>\n",
       "      <td>Test flight</td>\n",
       "      <td>Dirigible</td>\n",
       "      <td>5.0</td>\n",
       "      <td>5.0</td>\n",
       "      <td>0.0</td>\n",
       "      <td>First U.S. dirigible Akron exploded just offsh...</td>\n",
       "      <td>0.0</td>\n",
       "    </tr>\n",
       "    <tr>\n",
       "      <th>2</th>\n",
       "      <td>08/06/1913</td>\n",
       "      <td>Victoria, British Columbia, Canada</td>\n",
       "      <td>Private</td>\n",
       "      <td>Not defined</td>\n",
       "      <td>Curtiss seaplane</td>\n",
       "      <td>1.0</td>\n",
       "      <td>1.0</td>\n",
       "      <td>0.0</td>\n",
       "      <td>The first fatal airplane accident in Canada oc...</td>\n",
       "      <td>0.0</td>\n",
       "    </tr>\n",
       "    <tr>\n",
       "      <th>3</th>\n",
       "      <td>09/09/1913</td>\n",
       "      <td>Over the North Sea</td>\n",
       "      <td>Military - German Navy</td>\n",
       "      <td>Not defined</td>\n",
       "      <td>Zeppelin L-1 (airship)</td>\n",
       "      <td>20.0</td>\n",
       "      <td>14.0</td>\n",
       "      <td>0.0</td>\n",
       "      <td>The airship flew into a thunderstorm and encou...</td>\n",
       "      <td>6.0</td>\n",
       "    </tr>\n",
       "    <tr>\n",
       "      <th>4</th>\n",
       "      <td>10/17/1913</td>\n",
       "      <td>Near Johannisthal, Germany</td>\n",
       "      <td>Military - German Navy</td>\n",
       "      <td>Not defined</td>\n",
       "      <td>Zeppelin L-2 (airship)</td>\n",
       "      <td>30.0</td>\n",
       "      <td>30.0</td>\n",
       "      <td>0.0</td>\n",
       "      <td>Hydrogen gas which was being vented was sucked...</td>\n",
       "      <td>0.0</td>\n",
       "    </tr>\n",
       "  </tbody>\n",
       "</table>\n",
       "</div>"
      ],
      "text/plain": [
       "         Date                            Location                Operator  \\\n",
       "0  09/17/1908                 Fort Myer, Virginia    Military - U.S. Army   \n",
       "1  07/12/1912             AtlantiCity, New Jersey    Military - U.S. Navy   \n",
       "2  08/06/1913  Victoria, British Columbia, Canada                 Private   \n",
       "3  09/09/1913                  Over the North Sea  Military - German Navy   \n",
       "4  10/17/1913          Near Johannisthal, Germany  Military - German Navy   \n",
       "\n",
       "           Route                    Type  Aboard  Fatalities  Ground  \\\n",
       "0  Demonstration        Wright Flyer III     2.0         1.0     0.0   \n",
       "1    Test flight               Dirigible     5.0         5.0     0.0   \n",
       "2    Not defined        Curtiss seaplane     1.0         1.0     0.0   \n",
       "3    Not defined  Zeppelin L-1 (airship)    20.0        14.0     0.0   \n",
       "4    Not defined  Zeppelin L-2 (airship)    30.0        30.0     0.0   \n",
       "\n",
       "                                             Summary  Survived  \n",
       "0  During a demonstration flight, a U.S. Army fly...       1.0  \n",
       "1  First U.S. dirigible Akron exploded just offsh...       0.0  \n",
       "2  The first fatal airplane accident in Canada oc...       0.0  \n",
       "3  The airship flew into a thunderstorm and encou...       6.0  \n",
       "4  Hydrogen gas which was being vented was sucked...       0.0  "
      ]
     },
     "execution_count": 282,
     "metadata": {},
     "output_type": "execute_result"
    }
   ],
   "source": [
    "df.head(5)"
   ]
  },
  {
   "cell_type": "markdown",
   "id": "2cbf7769",
   "metadata": {},
   "source": [
    "## <u>Average of people abroading in each flight"
   ]
  },
  {
   "cell_type": "code",
   "execution_count": 283,
   "id": "5785bde9",
   "metadata": {},
   "outputs": [
    {
     "data": {
      "text/plain": [
       "21.94979079497908"
      ]
     },
     "execution_count": 283,
     "metadata": {},
     "output_type": "execute_result"
    }
   ],
   "source": [
    "df['Aboard'].value_counts().mean()"
   ]
  },
  {
   "cell_type": "markdown",
   "id": "7c8851a7",
   "metadata": {},
   "source": [
    "* On an average 22 count of people abroad each flight"
   ]
  },
  {
   "cell_type": "markdown",
   "id": "4cd4f396",
   "metadata": {},
   "source": [
    "## <u>Showing Most Accidental Locations"
   ]
  },
  {
   "cell_type": "code",
   "execution_count": 284,
   "id": "be3f4fd2",
   "metadata": {},
   "outputs": [
    {
     "data": {
      "text/plain": [
       "Sao Paulo, Brazil                    15\n",
       "Moscow, Russia                       15\n",
       "Rio de Janeiro, Brazil               14\n",
       "Anchorage, Alaska                    13\n",
       "Manila, Philippines                  13\n",
       "                                     ..\n",
       "Near Charana, Bolivia                 1\n",
       "Monte Matto, Italy                    1\n",
       "Misaki Mountain, Japan                1\n",
       "Angelholm, Sweden                     1\n",
       "State of Arunachal Pradesh, India     1\n",
       "Name: Location, Length: 4303, dtype: int64"
      ]
     },
     "execution_count": 284,
     "metadata": {},
     "output_type": "execute_result"
    }
   ],
   "source": [
    "df['Location'].value_counts()"
   ]
  },
  {
   "cell_type": "markdown",
   "id": "5b375329",
   "metadata": {},
   "source": [
    "* Most incidents are occured in Brazil,Russia,Alask and Philippines."
   ]
  },
  {
   "cell_type": "code",
   "execution_count": 285,
   "id": "110601b0",
   "metadata": {},
   "outputs": [
    {
     "data": {
      "text/html": [
       "<div>\n",
       "<style scoped>\n",
       "    .dataframe tbody tr th:only-of-type {\n",
       "        vertical-align: middle;\n",
       "    }\n",
       "\n",
       "    .dataframe tbody tr th {\n",
       "        vertical-align: top;\n",
       "    }\n",
       "\n",
       "    .dataframe thead th {\n",
       "        text-align: right;\n",
       "    }\n",
       "</style>\n",
       "<table border=\"1\" class=\"dataframe\">\n",
       "  <thead>\n",
       "    <tr style=\"text-align: right;\">\n",
       "      <th></th>\n",
       "      <th>Date</th>\n",
       "      <th>Location</th>\n",
       "      <th>Operator</th>\n",
       "      <th>Route</th>\n",
       "      <th>Type</th>\n",
       "      <th>Aboard</th>\n",
       "      <th>Fatalities</th>\n",
       "      <th>Ground</th>\n",
       "      <th>Summary</th>\n",
       "      <th>Survived</th>\n",
       "    </tr>\n",
       "  </thead>\n",
       "  <tbody>\n",
       "    <tr>\n",
       "      <th>0</th>\n",
       "      <td>09/17/1908</td>\n",
       "      <td>Fort Myer, Virginia</td>\n",
       "      <td>Military - U.S. Army</td>\n",
       "      <td>Demonstration</td>\n",
       "      <td>Wright Flyer III</td>\n",
       "      <td>2.0</td>\n",
       "      <td>1.0</td>\n",
       "      <td>0.0</td>\n",
       "      <td>During a demonstration flight, a U.S. Army fly...</td>\n",
       "      <td>1.0</td>\n",
       "    </tr>\n",
       "    <tr>\n",
       "      <th>1</th>\n",
       "      <td>07/12/1912</td>\n",
       "      <td>AtlantiCity, New Jersey</td>\n",
       "      <td>Military - U.S. Navy</td>\n",
       "      <td>Test flight</td>\n",
       "      <td>Dirigible</td>\n",
       "      <td>5.0</td>\n",
       "      <td>5.0</td>\n",
       "      <td>0.0</td>\n",
       "      <td>First U.S. dirigible Akron exploded just offsh...</td>\n",
       "      <td>0.0</td>\n",
       "    </tr>\n",
       "    <tr>\n",
       "      <th>2</th>\n",
       "      <td>08/06/1913</td>\n",
       "      <td>Victoria, British Columbia, Canada</td>\n",
       "      <td>Private</td>\n",
       "      <td>Not defined</td>\n",
       "      <td>Curtiss seaplane</td>\n",
       "      <td>1.0</td>\n",
       "      <td>1.0</td>\n",
       "      <td>0.0</td>\n",
       "      <td>The first fatal airplane accident in Canada oc...</td>\n",
       "      <td>0.0</td>\n",
       "    </tr>\n",
       "    <tr>\n",
       "      <th>3</th>\n",
       "      <td>09/09/1913</td>\n",
       "      <td>Over the North Sea</td>\n",
       "      <td>Military - German Navy</td>\n",
       "      <td>Not defined</td>\n",
       "      <td>Zeppelin L-1 (airship)</td>\n",
       "      <td>20.0</td>\n",
       "      <td>14.0</td>\n",
       "      <td>0.0</td>\n",
       "      <td>The airship flew into a thunderstorm and encou...</td>\n",
       "      <td>6.0</td>\n",
       "    </tr>\n",
       "    <tr>\n",
       "      <th>4</th>\n",
       "      <td>10/17/1913</td>\n",
       "      <td>Near Johannisthal, Germany</td>\n",
       "      <td>Military - German Navy</td>\n",
       "      <td>Not defined</td>\n",
       "      <td>Zeppelin L-2 (airship)</td>\n",
       "      <td>30.0</td>\n",
       "      <td>30.0</td>\n",
       "      <td>0.0</td>\n",
       "      <td>Hydrogen gas which was being vented was sucked...</td>\n",
       "      <td>0.0</td>\n",
       "    </tr>\n",
       "  </tbody>\n",
       "</table>\n",
       "</div>"
      ],
      "text/plain": [
       "         Date                            Location                Operator  \\\n",
       "0  09/17/1908                 Fort Myer, Virginia    Military - U.S. Army   \n",
       "1  07/12/1912             AtlantiCity, New Jersey    Military - U.S. Navy   \n",
       "2  08/06/1913  Victoria, British Columbia, Canada                 Private   \n",
       "3  09/09/1913                  Over the North Sea  Military - German Navy   \n",
       "4  10/17/1913          Near Johannisthal, Germany  Military - German Navy   \n",
       "\n",
       "           Route                    Type  Aboard  Fatalities  Ground  \\\n",
       "0  Demonstration        Wright Flyer III     2.0         1.0     0.0   \n",
       "1    Test flight               Dirigible     5.0         5.0     0.0   \n",
       "2    Not defined        Curtiss seaplane     1.0         1.0     0.0   \n",
       "3    Not defined  Zeppelin L-1 (airship)    20.0        14.0     0.0   \n",
       "4    Not defined  Zeppelin L-2 (airship)    30.0        30.0     0.0   \n",
       "\n",
       "                                             Summary  Survived  \n",
       "0  During a demonstration flight, a U.S. Army fly...       1.0  \n",
       "1  First U.S. dirigible Akron exploded just offsh...       0.0  \n",
       "2  The first fatal airplane accident in Canada oc...       0.0  \n",
       "3  The airship flew into a thunderstorm and encou...       6.0  \n",
       "4  Hydrogen gas which was being vented was sucked...       0.0  "
      ]
     },
     "execution_count": 285,
     "metadata": {},
     "output_type": "execute_result"
    }
   ],
   "source": [
    "df.head()"
   ]
  },
  {
   "cell_type": "markdown",
   "id": "c2ba2a4b",
   "metadata": {},
   "source": [
    "## <u>Finding data of most accidental area in World i.e Brazil(Sao Paulo)</u>"
   ]
  },
  {
   "cell_type": "code",
   "execution_count": 286,
   "id": "10dd79d3",
   "metadata": {},
   "outputs": [
    {
     "data": {
      "text/html": [
       "<div>\n",
       "<style scoped>\n",
       "    .dataframe tbody tr th:only-of-type {\n",
       "        vertical-align: middle;\n",
       "    }\n",
       "\n",
       "    .dataframe tbody tr th {\n",
       "        vertical-align: top;\n",
       "    }\n",
       "\n",
       "    .dataframe thead th {\n",
       "        text-align: right;\n",
       "    }\n",
       "</style>\n",
       "<table border=\"1\" class=\"dataframe\">\n",
       "  <thead>\n",
       "    <tr style=\"text-align: right;\">\n",
       "      <th></th>\n",
       "      <th>Location</th>\n",
       "      <th>Summary</th>\n",
       "    </tr>\n",
       "  </thead>\n",
       "  <tbody>\n",
       "    <tr>\n",
       "      <th>469</th>\n",
       "      <td>Sao Paulo, Brazil</td>\n",
       "      <td>The mail plane crashed while taking off.</td>\n",
       "    </tr>\n",
       "    <tr>\n",
       "      <th>664</th>\n",
       "      <td>Sao Paulo, Brazil</td>\n",
       "      <td>Crashed in fog.</td>\n",
       "    </tr>\n",
       "    <tr>\n",
       "      <th>836</th>\n",
       "      <td>Sao Paulo, Brazil</td>\n",
       "      <td>Crashed into the Solimoes extension of the Ama...</td>\n",
       "    </tr>\n",
       "    <tr>\n",
       "      <th>1148</th>\n",
       "      <td>Sao Paulo, Brazil</td>\n",
       "      <td>Crashed into a house shortly after taking off ...</td>\n",
       "    </tr>\n",
       "    <tr>\n",
       "      <th>1203</th>\n",
       "      <td>Sao Paulo, Brazil</td>\n",
       "      <td>Crashed while attempting to make an emergency ...</td>\n",
       "    </tr>\n",
       "    <tr>\n",
       "      <th>1269</th>\n",
       "      <td>Sao Paulo, Brazil</td>\n",
       "      <td>Crashed while on final approach to Sao Paulo. ...</td>\n",
       "    </tr>\n",
       "    <tr>\n",
       "      <th>1327</th>\n",
       "      <td>Sao Paulo, Brazil</td>\n",
       "      <td>The cargo plane crashed on takeoff. Elevator l...</td>\n",
       "    </tr>\n",
       "    <tr>\n",
       "      <th>1406</th>\n",
       "      <td>Sao Paulo, Brazil</td>\n",
       "      <td>Crashed on takeoff.</td>\n",
       "    </tr>\n",
       "    <tr>\n",
       "      <th>1619</th>\n",
       "      <td>Sao Paulo, Brazil</td>\n",
       "      <td>Crashed a few minutes after taking off from Sa...</td>\n",
       "    </tr>\n",
       "    <tr>\n",
       "      <th>1828</th>\n",
       "      <td>Sao Paulo, Brazil</td>\n",
       "      <td>The crippled airliner crashed into houses and ...</td>\n",
       "    </tr>\n",
       "    <tr>\n",
       "      <th>1848</th>\n",
       "      <td>Sao Paulo, Brazil</td>\n",
       "      <td>The aircraft returned to airport after the No....</td>\n",
       "    </tr>\n",
       "    <tr>\n",
       "      <th>3601</th>\n",
       "      <td>Sao Paulo, Brazil</td>\n",
       "      <td>The crew accidently tried to take off from a t...</td>\n",
       "    </tr>\n",
       "    <tr>\n",
       "      <th>4406</th>\n",
       "      <td>Sao Paulo, Brazil</td>\n",
       "      <td>The crew was advised they were too high and fa...</td>\n",
       "    </tr>\n",
       "    <tr>\n",
       "      <th>5159</th>\n",
       "      <td>Sao Paulo, Brazil</td>\n",
       "      <td>The jet airliner crashed while attempting to l...</td>\n",
       "    </tr>\n",
       "    <tr>\n",
       "      <th>5177</th>\n",
       "      <td>Sao Paulo, Brazil</td>\n",
       "      <td>The executive jet took off, banked to the righ...</td>\n",
       "    </tr>\n",
       "  </tbody>\n",
       "</table>\n",
       "</div>"
      ],
      "text/plain": [
       "               Location                                            Summary\n",
       "469   Sao Paulo, Brazil           The mail plane crashed while taking off.\n",
       "664   Sao Paulo, Brazil                                    Crashed in fog.\n",
       "836   Sao Paulo, Brazil  Crashed into the Solimoes extension of the Ama...\n",
       "1148  Sao Paulo, Brazil  Crashed into a house shortly after taking off ...\n",
       "1203  Sao Paulo, Brazil  Crashed while attempting to make an emergency ...\n",
       "1269  Sao Paulo, Brazil  Crashed while on final approach to Sao Paulo. ...\n",
       "1327  Sao Paulo, Brazil  The cargo plane crashed on takeoff. Elevator l...\n",
       "1406  Sao Paulo, Brazil                                Crashed on takeoff.\n",
       "1619  Sao Paulo, Brazil  Crashed a few minutes after taking off from Sa...\n",
       "1828  Sao Paulo, Brazil  The crippled airliner crashed into houses and ...\n",
       "1848  Sao Paulo, Brazil  The aircraft returned to airport after the No....\n",
       "3601  Sao Paulo, Brazil  The crew accidently tried to take off from a t...\n",
       "4406  Sao Paulo, Brazil  The crew was advised they were too high and fa...\n",
       "5159  Sao Paulo, Brazil  The jet airliner crashed while attempting to l...\n",
       "5177  Sao Paulo, Brazil  The executive jet took off, banked to the righ..."
      ]
     },
     "execution_count": 286,
     "metadata": {},
     "output_type": "execute_result"
    }
   ],
   "source": [
    "df[(df['Location']=='Sao Paulo, Brazil')][['Location','Summary']]"
   ]
  },
  {
   "cell_type": "code",
   "execution_count": 287,
   "id": "a6d57885",
   "metadata": {},
   "outputs": [
    {
     "data": {
      "text/html": [
       "<div>\n",
       "<style scoped>\n",
       "    .dataframe tbody tr th:only-of-type {\n",
       "        vertical-align: middle;\n",
       "    }\n",
       "\n",
       "    .dataframe tbody tr th {\n",
       "        vertical-align: top;\n",
       "    }\n",
       "\n",
       "    .dataframe thead th {\n",
       "        text-align: right;\n",
       "    }\n",
       "</style>\n",
       "<table border=\"1\" class=\"dataframe\">\n",
       "  <thead>\n",
       "    <tr style=\"text-align: right;\">\n",
       "      <th></th>\n",
       "      <th>Date</th>\n",
       "      <th>Location</th>\n",
       "      <th>Operator</th>\n",
       "      <th>Route</th>\n",
       "      <th>Type</th>\n",
       "      <th>Aboard</th>\n",
       "      <th>Fatalities</th>\n",
       "      <th>Ground</th>\n",
       "      <th>Summary</th>\n",
       "      <th>Survived</th>\n",
       "    </tr>\n",
       "  </thead>\n",
       "  <tbody>\n",
       "    <tr>\n",
       "      <th>1406</th>\n",
       "      <td>12/19/1955</td>\n",
       "      <td>Sao Paulo, Brazil</td>\n",
       "      <td>Cruzeiro Do Sud</td>\n",
       "      <td>Sao Paulo - Belem</td>\n",
       "      <td>Douglas DC-3</td>\n",
       "      <td>26.0</td>\n",
       "      <td>26.0</td>\n",
       "      <td>0.0</td>\n",
       "      <td>Crashed on takeoff.</td>\n",
       "      <td>0.0</td>\n",
       "    </tr>\n",
       "    <tr>\n",
       "      <th>1848</th>\n",
       "      <td>05/03/1963</td>\n",
       "      <td>Sao Paulo, Brazil</td>\n",
       "      <td>Cruzeiro</td>\n",
       "      <td>Sao Paulo - Rio de Janeiro</td>\n",
       "      <td>Convair CV-340-59</td>\n",
       "      <td>50.0</td>\n",
       "      <td>37.0</td>\n",
       "      <td>0.0</td>\n",
       "      <td>The aircraft returned to airport after the No....</td>\n",
       "      <td>13.0</td>\n",
       "    </tr>\n",
       "    <tr>\n",
       "      <th>5159</th>\n",
       "      <td>07/17/2007</td>\n",
       "      <td>Sao Paulo, Brazil</td>\n",
       "      <td>TAM (Brazil)</td>\n",
       "      <td>Porto Alegre - Sao Paulo</td>\n",
       "      <td>Airbus A-320-233</td>\n",
       "      <td>187.0</td>\n",
       "      <td>187.0</td>\n",
       "      <td>12.0</td>\n",
       "      <td>The jet airliner crashed while attempting to l...</td>\n",
       "      <td>0.0</td>\n",
       "    </tr>\n",
       "  </tbody>\n",
       "</table>\n",
       "</div>"
      ],
      "text/plain": [
       "            Date           Location         Operator  \\\n",
       "1406  12/19/1955  Sao Paulo, Brazil  Cruzeiro Do Sud   \n",
       "1848  05/03/1963  Sao Paulo, Brazil         Cruzeiro   \n",
       "5159  07/17/2007  Sao Paulo, Brazil     TAM (Brazil)   \n",
       "\n",
       "                           Route               Type  Aboard  Fatalities  \\\n",
       "1406           Sao Paulo - Belem       Douglas DC-3    26.0        26.0   \n",
       "1848  Sao Paulo - Rio de Janeiro  Convair CV-340-59    50.0        37.0   \n",
       "5159    Porto Alegre - Sao Paulo   Airbus A-320-233   187.0       187.0   \n",
       "\n",
       "      Ground                                            Summary  Survived  \n",
       "1406     0.0                                Crashed on takeoff.       0.0  \n",
       "1848     0.0  The aircraft returned to airport after the No....      13.0  \n",
       "5159    12.0  The jet airliner crashed while attempting to l...       0.0  "
      ]
     },
     "execution_count": 287,
     "metadata": {},
     "output_type": "execute_result"
    }
   ],
   "source": [
    "df[(df['Fatalities']>20) & (df['Location']=='Sao Paulo, Brazil')]"
   ]
  },
  {
   "cell_type": "markdown",
   "id": "c15374fa",
   "metadata": {},
   "source": [
    "* There are 3 main incidents to observe which caused more than 20 deaths in a single flight crash\n",
    "* only one of 3 incidents people survived on a minimum count of 13\n",
    "* The flight from Porto Alegre resulted atmost deaths in a single crash in which not a single person survived but caused a death of 187 people\n"
   ]
  },
  {
   "cell_type": "code",
   "execution_count": 288,
   "id": "e12332bc",
   "metadata": {},
   "outputs": [
    {
     "data": {
      "text/html": [
       "<div>\n",
       "<style scoped>\n",
       "    .dataframe tbody tr th:only-of-type {\n",
       "        vertical-align: middle;\n",
       "    }\n",
       "\n",
       "    .dataframe tbody tr th {\n",
       "        vertical-align: top;\n",
       "    }\n",
       "\n",
       "    .dataframe thead th {\n",
       "        text-align: right;\n",
       "    }\n",
       "</style>\n",
       "<table border=\"1\" class=\"dataframe\">\n",
       "  <thead>\n",
       "    <tr style=\"text-align: right;\">\n",
       "      <th></th>\n",
       "      <th>Date</th>\n",
       "      <th>Location</th>\n",
       "      <th>Operator</th>\n",
       "      <th>Route</th>\n",
       "      <th>Type</th>\n",
       "      <th>Aboard</th>\n",
       "      <th>Fatalities</th>\n",
       "      <th>Ground</th>\n",
       "      <th>Summary</th>\n",
       "      <th>Survived</th>\n",
       "    </tr>\n",
       "  </thead>\n",
       "  <tbody>\n",
       "    <tr>\n",
       "      <th>0</th>\n",
       "      <td>09/17/1908</td>\n",
       "      <td>Fort Myer, Virginia</td>\n",
       "      <td>Military - U.S. Army</td>\n",
       "      <td>Demonstration</td>\n",
       "      <td>Wright Flyer III</td>\n",
       "      <td>2.0</td>\n",
       "      <td>1.0</td>\n",
       "      <td>0.0</td>\n",
       "      <td>During a demonstration flight, a U.S. Army fly...</td>\n",
       "      <td>1.0</td>\n",
       "    </tr>\n",
       "    <tr>\n",
       "      <th>1</th>\n",
       "      <td>07/12/1912</td>\n",
       "      <td>AtlantiCity, New Jersey</td>\n",
       "      <td>Military - U.S. Navy</td>\n",
       "      <td>Test flight</td>\n",
       "      <td>Dirigible</td>\n",
       "      <td>5.0</td>\n",
       "      <td>5.0</td>\n",
       "      <td>0.0</td>\n",
       "      <td>First U.S. dirigible Akron exploded just offsh...</td>\n",
       "      <td>0.0</td>\n",
       "    </tr>\n",
       "    <tr>\n",
       "      <th>2</th>\n",
       "      <td>08/06/1913</td>\n",
       "      <td>Victoria, British Columbia, Canada</td>\n",
       "      <td>Private</td>\n",
       "      <td>Not defined</td>\n",
       "      <td>Curtiss seaplane</td>\n",
       "      <td>1.0</td>\n",
       "      <td>1.0</td>\n",
       "      <td>0.0</td>\n",
       "      <td>The first fatal airplane accident in Canada oc...</td>\n",
       "      <td>0.0</td>\n",
       "    </tr>\n",
       "    <tr>\n",
       "      <th>3</th>\n",
       "      <td>09/09/1913</td>\n",
       "      <td>Over the North Sea</td>\n",
       "      <td>Military - German Navy</td>\n",
       "      <td>Not defined</td>\n",
       "      <td>Zeppelin L-1 (airship)</td>\n",
       "      <td>20.0</td>\n",
       "      <td>14.0</td>\n",
       "      <td>0.0</td>\n",
       "      <td>The airship flew into a thunderstorm and encou...</td>\n",
       "      <td>6.0</td>\n",
       "    </tr>\n",
       "    <tr>\n",
       "      <th>4</th>\n",
       "      <td>10/17/1913</td>\n",
       "      <td>Near Johannisthal, Germany</td>\n",
       "      <td>Military - German Navy</td>\n",
       "      <td>Not defined</td>\n",
       "      <td>Zeppelin L-2 (airship)</td>\n",
       "      <td>30.0</td>\n",
       "      <td>30.0</td>\n",
       "      <td>0.0</td>\n",
       "      <td>Hydrogen gas which was being vented was sucked...</td>\n",
       "      <td>0.0</td>\n",
       "    </tr>\n",
       "  </tbody>\n",
       "</table>\n",
       "</div>"
      ],
      "text/plain": [
       "         Date                            Location                Operator  \\\n",
       "0  09/17/1908                 Fort Myer, Virginia    Military - U.S. Army   \n",
       "1  07/12/1912             AtlantiCity, New Jersey    Military - U.S. Navy   \n",
       "2  08/06/1913  Victoria, British Columbia, Canada                 Private   \n",
       "3  09/09/1913                  Over the North Sea  Military - German Navy   \n",
       "4  10/17/1913          Near Johannisthal, Germany  Military - German Navy   \n",
       "\n",
       "           Route                    Type  Aboard  Fatalities  Ground  \\\n",
       "0  Demonstration        Wright Flyer III     2.0         1.0     0.0   \n",
       "1    Test flight               Dirigible     5.0         5.0     0.0   \n",
       "2    Not defined        Curtiss seaplane     1.0         1.0     0.0   \n",
       "3    Not defined  Zeppelin L-1 (airship)    20.0        14.0     0.0   \n",
       "4    Not defined  Zeppelin L-2 (airship)    30.0        30.0     0.0   \n",
       "\n",
       "                                             Summary  Survived  \n",
       "0  During a demonstration flight, a U.S. Army fly...       1.0  \n",
       "1  First U.S. dirigible Akron exploded just offsh...       0.0  \n",
       "2  The first fatal airplane accident in Canada oc...       0.0  \n",
       "3  The airship flew into a thunderstorm and encou...       6.0  \n",
       "4  Hydrogen gas which was being vented was sucked...       0.0  "
      ]
     },
     "execution_count": 288,
     "metadata": {},
     "output_type": "execute_result"
    }
   ],
   "source": [
    "df.head()"
   ]
  },
  {
   "cell_type": "markdown",
   "id": "b946fa66",
   "metadata": {},
   "source": [
    "## <u>Showing correlation between abroad and fatalities"
   ]
  },
  {
   "cell_type": "code",
   "execution_count": 289,
   "id": "fc879239",
   "metadata": {},
   "outputs": [
    {
     "data": {
      "image/png": "[encoded data removed]",
      "text/plain": [
       "<Figure size 432x288 with 1 Axes>"
      ]
     },
     "metadata": {},
     "output_type": "display_data"
    }
   ],
   "source": [
    "df.plot(x=\"Aboard\", y=\"Fatalities\", kind=\"scatter\",color='blue')\n",
    "plt.show()"
   ]
  },
  {
   "cell_type": "markdown",
   "id": "906d42a2",
   "metadata": {},
   "source": [
    "##### 1.There is a positive correlation between abroad and fatalities\n",
    "##### 2.As there is increase in abroading passengers there is increase in fatalities"
   ]
  },
  {
   "cell_type": "code",
   "execution_count": 290,
   "id": "7faa97da",
   "metadata": {},
   "outputs": [
    {
     "data": {
      "text/html": [
       "<div>\n",
       "<style scoped>\n",
       "    .dataframe tbody tr th:only-of-type {\n",
       "        vertical-align: middle;\n",
       "    }\n",
       "\n",
       "    .dataframe tbody tr th {\n",
       "        vertical-align: top;\n",
       "    }\n",
       "\n",
       "    .dataframe thead th {\n",
       "        text-align: right;\n",
       "    }\n",
       "</style>\n",
       "<table border=\"1\" class=\"dataframe\">\n",
       "  <thead>\n",
       "    <tr style=\"text-align: right;\">\n",
       "      <th></th>\n",
       "      <th>Date</th>\n",
       "      <th>Location</th>\n",
       "      <th>Operator</th>\n",
       "      <th>Route</th>\n",
       "      <th>Type</th>\n",
       "      <th>Aboard</th>\n",
       "      <th>Fatalities</th>\n",
       "      <th>Ground</th>\n",
       "      <th>Summary</th>\n",
       "      <th>Survived</th>\n",
       "    </tr>\n",
       "  </thead>\n",
       "  <tbody>\n",
       "    <tr>\n",
       "      <th>0</th>\n",
       "      <td>09/17/1908</td>\n",
       "      <td>Fort Myer, Virginia</td>\n",
       "      <td>Military - U.S. Army</td>\n",
       "      <td>Demonstration</td>\n",
       "      <td>Wright Flyer III</td>\n",
       "      <td>2.0</td>\n",
       "      <td>1.0</td>\n",
       "      <td>0.0</td>\n",
       "      <td>During a demonstration flight, a U.S. Army fly...</td>\n",
       "      <td>1.0</td>\n",
       "    </tr>\n",
       "    <tr>\n",
       "      <th>1</th>\n",
       "      <td>07/12/1912</td>\n",
       "      <td>AtlantiCity, New Jersey</td>\n",
       "      <td>Military - U.S. Navy</td>\n",
       "      <td>Test flight</td>\n",
       "      <td>Dirigible</td>\n",
       "      <td>5.0</td>\n",
       "      <td>5.0</td>\n",
       "      <td>0.0</td>\n",
       "      <td>First U.S. dirigible Akron exploded just offsh...</td>\n",
       "      <td>0.0</td>\n",
       "    </tr>\n",
       "    <tr>\n",
       "      <th>2</th>\n",
       "      <td>08/06/1913</td>\n",
       "      <td>Victoria, British Columbia, Canada</td>\n",
       "      <td>Private</td>\n",
       "      <td>Not defined</td>\n",
       "      <td>Curtiss seaplane</td>\n",
       "      <td>1.0</td>\n",
       "      <td>1.0</td>\n",
       "      <td>0.0</td>\n",
       "      <td>The first fatal airplane accident in Canada oc...</td>\n",
       "      <td>0.0</td>\n",
       "    </tr>\n",
       "    <tr>\n",
       "      <th>3</th>\n",
       "      <td>09/09/1913</td>\n",
       "      <td>Over the North Sea</td>\n",
       "      <td>Military - German Navy</td>\n",
       "      <td>Not defined</td>\n",
       "      <td>Zeppelin L-1 (airship)</td>\n",
       "      <td>20.0</td>\n",
       "      <td>14.0</td>\n",
       "      <td>0.0</td>\n",
       "      <td>The airship flew into a thunderstorm and encou...</td>\n",
       "      <td>6.0</td>\n",
       "    </tr>\n",
       "    <tr>\n",
       "      <th>4</th>\n",
       "      <td>10/17/1913</td>\n",
       "      <td>Near Johannisthal, Germany</td>\n",
       "      <td>Military - German Navy</td>\n",
       "      <td>Not defined</td>\n",
       "      <td>Zeppelin L-2 (airship)</td>\n",
       "      <td>30.0</td>\n",
       "      <td>30.0</td>\n",
       "      <td>0.0</td>\n",
       "      <td>Hydrogen gas which was being vented was sucked...</td>\n",
       "      <td>0.0</td>\n",
       "    </tr>\n",
       "  </tbody>\n",
       "</table>\n",
       "</div>"
      ],
      "text/plain": [
       "         Date                            Location                Operator  \\\n",
       "0  09/17/1908                 Fort Myer, Virginia    Military - U.S. Army   \n",
       "1  07/12/1912             AtlantiCity, New Jersey    Military - U.S. Navy   \n",
       "2  08/06/1913  Victoria, British Columbia, Canada                 Private   \n",
       "3  09/09/1913                  Over the North Sea  Military - German Navy   \n",
       "4  10/17/1913          Near Johannisthal, Germany  Military - German Navy   \n",
       "\n",
       "           Route                    Type  Aboard  Fatalities  Ground  \\\n",
       "0  Demonstration        Wright Flyer III     2.0         1.0     0.0   \n",
       "1    Test flight               Dirigible     5.0         5.0     0.0   \n",
       "2    Not defined        Curtiss seaplane     1.0         1.0     0.0   \n",
       "3    Not defined  Zeppelin L-1 (airship)    20.0        14.0     0.0   \n",
       "4    Not defined  Zeppelin L-2 (airship)    30.0        30.0     0.0   \n",
       "\n",
       "                                             Summary  Survived  \n",
       "0  During a demonstration flight, a U.S. Army fly...       1.0  \n",
       "1  First U.S. dirigible Akron exploded just offsh...       0.0  \n",
       "2  The first fatal airplane accident in Canada oc...       0.0  \n",
       "3  The airship flew into a thunderstorm and encou...       6.0  \n",
       "4  Hydrogen gas which was being vented was sucked...       0.0  "
      ]
     },
     "execution_count": 290,
     "metadata": {},
     "output_type": "execute_result"
    }
   ],
   "source": [
    "df.head()"
   ]
  },
  {
   "cell_type": "markdown",
   "id": "d4c42f0a",
   "metadata": {},
   "source": [
    "## <u>Finding out count of accidents on different routes"
   ]
  },
  {
   "cell_type": "code",
   "execution_count": 291,
   "id": "04dda8cf",
   "metadata": {},
   "outputs": [
    {
     "data": {
      "text/plain": [
       "Not defined                   1706\n",
       "Training                        81\n",
       "Sightseeing                     29\n",
       "Test flight                     17\n",
       "Test                             6\n",
       "                              ... \n",
       "Manila - Lapu Lapu               1\n",
       "Saint Denis - Paris              1\n",
       "Cork - London                    1\n",
       "Peoria, IL - St. Louis, MO       1\n",
       "Mechuka for Jorhat               1\n",
       "Name: Route, Length: 3245, dtype: int64"
      ]
     },
     "execution_count": 291,
     "metadata": {},
     "output_type": "execute_result"
    }
   ],
   "source": [
    "df['Route'].value_counts()"
   ]
  },
  {
   "cell_type": "markdown",
   "id": "f0934034",
   "metadata": {},
   "source": [
    "* Most accidents are occured while training, sighseeing and test flight"
   ]
  },
  {
   "cell_type": "markdown",
   "id": "0f7b5056",
   "metadata": {},
   "source": [
    "## <u>Creating New columns named Day,Month,Year,Decade,Date of Year "
   ]
  },
  {
   "cell_type": "code",
   "execution_count": 292,
   "id": "b33c3ba9",
   "metadata": {},
   "outputs": [],
   "source": [
    "df['Month'] = pd.DatetimeIndex(df['Date']).month\n",
    "df['Year'] = pd.DatetimeIndex(df['Date']).year\n",
    "df['Decade'] = (df['Year']) // 10 * 10\n",
    "df['Day of Week'] = pd.DatetimeIndex(df['Date']).day_name()"
   ]
  },
  {
   "cell_type": "code",
   "execution_count": 293,
   "id": "ec399a07",
   "metadata": {},
   "outputs": [
    {
     "data": {
      "text/html": [
       "<div>\n",
       "<style scoped>\n",
       "    .dataframe tbody tr th:only-of-type {\n",
       "        vertical-align: middle;\n",
       "    }\n",
       "\n",
       "    .dataframe tbody tr th {\n",
       "        vertical-align: top;\n",
       "    }\n",
       "\n",
       "    .dataframe thead th {\n",
       "        text-align: right;\n",
       "    }\n",
       "</style>\n",
       "<table border=\"1\" class=\"dataframe\">\n",
       "  <thead>\n",
       "    <tr style=\"text-align: right;\">\n",
       "      <th></th>\n",
       "      <th>Date</th>\n",
       "      <th>Location</th>\n",
       "      <th>Operator</th>\n",
       "      <th>Route</th>\n",
       "      <th>Type</th>\n",
       "      <th>Aboard</th>\n",
       "      <th>Fatalities</th>\n",
       "      <th>Ground</th>\n",
       "      <th>Summary</th>\n",
       "      <th>Survived</th>\n",
       "      <th>Month</th>\n",
       "      <th>Year</th>\n",
       "      <th>Decade</th>\n",
       "      <th>Day of Week</th>\n",
       "    </tr>\n",
       "  </thead>\n",
       "  <tbody>\n",
       "    <tr>\n",
       "      <th>0</th>\n",
       "      <td>09/17/1908</td>\n",
       "      <td>Fort Myer, Virginia</td>\n",
       "      <td>Military - U.S. Army</td>\n",
       "      <td>Demonstration</td>\n",
       "      <td>Wright Flyer III</td>\n",
       "      <td>2.0</td>\n",
       "      <td>1.0</td>\n",
       "      <td>0.0</td>\n",
       "      <td>During a demonstration flight, a U.S. Army fly...</td>\n",
       "      <td>1.0</td>\n",
       "      <td>9</td>\n",
       "      <td>1908</td>\n",
       "      <td>1900</td>\n",
       "      <td>Thursday</td>\n",
       "    </tr>\n",
       "    <tr>\n",
       "      <th>1</th>\n",
       "      <td>07/12/1912</td>\n",
       "      <td>AtlantiCity, New Jersey</td>\n",
       "      <td>Military - U.S. Navy</td>\n",
       "      <td>Test flight</td>\n",
       "      <td>Dirigible</td>\n",
       "      <td>5.0</td>\n",
       "      <td>5.0</td>\n",
       "      <td>0.0</td>\n",
       "      <td>First U.S. dirigible Akron exploded just offsh...</td>\n",
       "      <td>0.0</td>\n",
       "      <td>7</td>\n",
       "      <td>1912</td>\n",
       "      <td>1910</td>\n",
       "      <td>Friday</td>\n",
       "    </tr>\n",
       "    <tr>\n",
       "      <th>2</th>\n",
       "      <td>08/06/1913</td>\n",
       "      <td>Victoria, British Columbia, Canada</td>\n",
       "      <td>Private</td>\n",
       "      <td>Not defined</td>\n",
       "      <td>Curtiss seaplane</td>\n",
       "      <td>1.0</td>\n",
       "      <td>1.0</td>\n",
       "      <td>0.0</td>\n",
       "      <td>The first fatal airplane accident in Canada oc...</td>\n",
       "      <td>0.0</td>\n",
       "      <td>8</td>\n",
       "      <td>1913</td>\n",
       "      <td>1910</td>\n",
       "      <td>Wednesday</td>\n",
       "    </tr>\n",
       "    <tr>\n",
       "      <th>3</th>\n",
       "      <td>09/09/1913</td>\n",
       "      <td>Over the North Sea</td>\n",
       "      <td>Military - German Navy</td>\n",
       "      <td>Not defined</td>\n",
       "      <td>Zeppelin L-1 (airship)</td>\n",
       "      <td>20.0</td>\n",
       "      <td>14.0</td>\n",
       "      <td>0.0</td>\n",
       "      <td>The airship flew into a thunderstorm and encou...</td>\n",
       "      <td>6.0</td>\n",
       "      <td>9</td>\n",
       "      <td>1913</td>\n",
       "      <td>1910</td>\n",
       "      <td>Tuesday</td>\n",
       "    </tr>\n",
       "    <tr>\n",
       "      <th>4</th>\n",
       "      <td>10/17/1913</td>\n",
       "      <td>Near Johannisthal, Germany</td>\n",
       "      <td>Military - German Navy</td>\n",
       "      <td>Not defined</td>\n",
       "      <td>Zeppelin L-2 (airship)</td>\n",
       "      <td>30.0</td>\n",
       "      <td>30.0</td>\n",
       "      <td>0.0</td>\n",
       "      <td>Hydrogen gas which was being vented was sucked...</td>\n",
       "      <td>0.0</td>\n",
       "      <td>10</td>\n",
       "      <td>1913</td>\n",
       "      <td>1910</td>\n",
       "      <td>Friday</td>\n",
       "    </tr>\n",
       "  </tbody>\n",
       "</table>\n",
       "</div>"
      ],
      "text/plain": [
       "         Date                            Location                Operator  \\\n",
       "0  09/17/1908                 Fort Myer, Virginia    Military - U.S. Army   \n",
       "1  07/12/1912             AtlantiCity, New Jersey    Military - U.S. Navy   \n",
       "2  08/06/1913  Victoria, British Columbia, Canada                 Private   \n",
       "3  09/09/1913                  Over the North Sea  Military - German Navy   \n",
       "4  10/17/1913          Near Johannisthal, Germany  Military - German Navy   \n",
       "\n",
       "           Route                    Type  Aboard  Fatalities  Ground  \\\n",
       "0  Demonstration        Wright Flyer III     2.0         1.0     0.0   \n",
       "1    Test flight               Dirigible     5.0         5.0     0.0   \n",
       "2    Not defined        Curtiss seaplane     1.0         1.0     0.0   \n",
       "3    Not defined  Zeppelin L-1 (airship)    20.0        14.0     0.0   \n",
       "4    Not defined  Zeppelin L-2 (airship)    30.0        30.0     0.0   \n",
       "\n",
       "                                             Summary  Survived  Month  Year  \\\n",
       "0  During a demonstration flight, a U.S. Army fly...       1.0      9  1908   \n",
       "1  First U.S. dirigible Akron exploded just offsh...       0.0      7  1912   \n",
       "2  The first fatal airplane accident in Canada oc...       0.0      8  1913   \n",
       "3  The airship flew into a thunderstorm and encou...       6.0      9  1913   \n",
       "4  Hydrogen gas which was being vented was sucked...       0.0     10  1913   \n",
       "\n",
       "   Decade Day of Week  \n",
       "0    1900    Thursday  \n",
       "1    1910      Friday  \n",
       "2    1910   Wednesday  \n",
       "3    1910     Tuesday  \n",
       "4    1910      Friday  "
      ]
     },
     "execution_count": 293,
     "metadata": {},
     "output_type": "execute_result"
    }
   ],
   "source": [
    "df.head()"
   ]
  },
  {
   "cell_type": "markdown",
   "id": "07f96c88",
   "metadata": {},
   "source": [
    "## <u>Plot the graph of showing counts of accidents on weekdays"
   ]
  },
  {
   "cell_type": "code",
   "execution_count": 294,
   "id": "6b5f27fe",
   "metadata": {},
   "outputs": [
    {
     "data": {
      "text/plain": [
       "<AxesSubplot:title={'center':'Count of crashes by Day of Week'}>"
      ]
     },
     "execution_count": 294,
     "metadata": {},
     "output_type": "execute_result"
    },
    {
     "data": {
      "image/png": "[encoded data removed]",
      "text/plain": [
       "<Figure size 864x432 with 1 Axes>"
      ]
     },
     "metadata": {},
     "output_type": "display_data"
    }
   ],
   "source": [
    "df['Day of Week'].value_counts().plot(kind='barh', figsize=[12, 6], title='Count of crashes by Day of Week',color='blue')"
   ]
  },
  {
   "cell_type": "markdown",
   "id": "ed8b5fc5",
   "metadata": {},
   "source": [
    "* From this bar graph we can assume that sunday has the least amount of accidents\n",
    "* While Thursday has most accidents through the week\n",
    "* Tuesday, Wednesday and Friday have same amount of accidents"
   ]
  },
  {
   "cell_type": "markdown",
   "id": "9ba050a6",
   "metadata": {},
   "source": [
    "## <u>Plotting Bar graph to see Accidents with respect to Seasons"
   ]
  },
  {
   "cell_type": "code",
   "execution_count": 295,
   "id": "fa897bbc",
   "metadata": {},
   "outputs": [
    {
     "data": {
      "text/plain": [
       "Season\n",
       "Rainy     1747\n",
       "Summer    1599\n",
       "Winter    1922\n",
       "Name: Season, dtype: int64"
      ]
     },
     "execution_count": 295,
     "metadata": {},
     "output_type": "execute_result"
    },
    {
     "data": {
      "image/png": "[encoded data removed]",
      "text/plain": [
       "<Figure size 864x432 with 1 Axes>"
      ]
     },
     "metadata": {},
     "output_type": "display_data"
    }
   ],
   "source": [
    "def get_season(month):\n",
    "    if month >= 2 and month <= 5:\n",
    "        return 'Summer'\n",
    "    elif month >= 6 and month <= 9:\n",
    "        return 'Rainy'\n",
    "    else:\n",
    "        return 'Winter'\n",
    "\n",
    "df['Season'] = df['Month'].apply(get_season)\n",
    "\n",
    "crashed_by_season = df['Season'].groupby(df['Season']).count()\n",
    "crashed_by_season.plot(kind='bar', figsize=[12, 6], title='Count of crashes by Season',color='red')\n",
    "crashed_by_season"
   ]
  },
  {
   "cell_type": "markdown",
   "id": "5d861f7b",
   "metadata": {},
   "source": [
    "* As compared there are more incidents in Winter season as compared to Rainy season and Summer season\n",
    "* Summer season has the lowest amount of accidents through the other 2 seasons"
   ]
  },
  {
   "cell_type": "markdown",
   "id": "82be2913",
   "metadata": {},
   "source": [
    "## <u>Plotting to see Fatalities with respect to years "
   ]
  },
  {
   "cell_type": "code",
   "execution_count": 296,
   "id": "ad896198",
   "metadata": {},
   "outputs": [
    {
     "data": {
      "image/png": "[encoded data removed]",
      "text/plain": [
       "<Figure size 1296x576 with 1 Axes>"
      ]
     },
     "metadata": {},
     "output_type": "display_data"
    }
   ],
   "source": [
    "plt.figure(figsize= (18, 8))\n",
    "years = df['Year']\n",
    "plt.plot(df['Fatalities'], years, 'o',color='orange')\n",
    "plt.xlabel('Fatalities')\n",
    "plt.ylabel('Years')\n",
    "plt.show()"
   ]
  },
  {
   "cell_type": "markdown",
   "id": "97de2228",
   "metadata": {},
   "source": [
    "* most airplane accidents occured after 1940\n",
    "* There is a serious amount of fatalities in years 1960 to 2000"
   ]
  },
  {
   "cell_type": "markdown",
   "id": "57231621",
   "metadata": {},
   "source": [
    "## <u>Plotting bar graph for incidents in which plane is highjacked with respect to year"
   ]
  },
  {
   "cell_type": "code",
   "execution_count": 297,
   "id": "340e3be8",
   "metadata": {},
   "outputs": [
    {
     "data": {
      "image/png": "[encoded data removed]",
      "text/plain": [
       "<Figure size 864x432 with 1 Axes>"
      ]
     },
     "metadata": {},
     "output_type": "display_data"
    }
   ],
   "source": [
    "df[df['Summary'].str.contains('hijacke')]['Year'].value_counts().sort_index().plot(kind='bar',figsize=[12, 6], title='Count of hijacked planes crashed by year',color='blue')\n",
    "plt.show()"
   ]
  },
  {
   "cell_type": "markdown",
   "id": "4c1089ba",
   "metadata": {},
   "source": [
    "* Most airplanes are hijacked in the year 2001 followed by year 1976\n"
   ]
  },
  {
   "cell_type": "markdown",
   "id": "4feda7fa",
   "metadata": {},
   "source": [
    "## <u>Plotting pie diagram to see difference between fatalities and survivors"
   ]
  },
  {
   "cell_type": "code",
   "execution_count": 298,
   "id": "2d7f99fb",
   "metadata": {
    "scrolled": true
   },
   "outputs": [
    {
     "data": {
      "image/png": "[encoded data removed]",
      "text/plain": [
       "<Figure size 1080x720 with 1 Axes>"
      ]
     },
     "metadata": {},
     "output_type": "display_data"
    }
   ],
   "source": [
    "sns.set_palette('pastel')\n",
    "plt.figure(figsize=(15,10))\n",
    "Survived=df.Survived.sum()\n",
    "Fatalities = df.Fatalities.sum()\n",
    "\n",
    "y = np.array([Fatalities, Survived])\n",
    "mylabels = [\"Fatalities\", \"Survivors\"]\n",
    "\n",
    "plt.pie(y, labels = mylabels,autopct='%1.2f%%',colors=['cyan','blue'])\n",
    "plt.legend(fontsize=15)\n",
    "plt.show()"
   ]
  },
  {
   "cell_type": "markdown",
   "id": "f51435e0",
   "metadata": {},
   "source": [
    "* There is a serious amount of fatalities as compared to survivors\n",
    "* Around 73% of fatalities are recorded in accidents as compared to 27% of survivors\n",
    "* It shows a guarantee of more fatalities in a single accident than survivors"
   ]
  },
  {
   "cell_type": "markdown",
   "id": "1cff43c8",
   "metadata": {},
   "source": [
    "## <u>Showing realtion between Fatalities, Survivors and People killed on Ground"
   ]
  },
  {
   "cell_type": "code",
   "execution_count": 299,
   "id": "7fb05777",
   "metadata": {},
   "outputs": [],
   "source": [
    "FSG_per_year = df[['Year', 'Fatalities', 'Survived', 'Ground']].groupby('Year').sum()"
   ]
  },
  {
   "cell_type": "code",
   "execution_count": 300,
   "id": "673ebe07",
   "metadata": {},
   "outputs": [
    {
     "data": {
      "image/png": "[encoded data removed]",
      "text/plain": [
       "<Figure size 1440x504 with 1 Axes>"
      ]
     },
     "metadata": {},
     "output_type": "display_data"
    }
   ],
   "source": [
    "plt.figure(figsize=(20,7))\n",
    "sns.lineplot(x = 'Year', y = 'Fatalities', data = FSG_per_year,palette='bright')\n",
    "sns.lineplot(x = 'Year', y = 'Survived', data = FSG_per_year)\n",
    "sns.lineplot(x = 'Year', y = 'Ground', data = FSG_per_year)\n",
    "plt.legend(['Fatalities', 'Survival', 'Ground'])\n",
    "plt.xlabel('Years')\n",
    "plt.ylabel('Frequency')\n",
    "plt.title('Fatalities vs Survived vs Killed on Ground per Year')\n",
    "plt.show()"
   ]
  },
  {
   "cell_type": "markdown",
   "id": "5629645e",
   "metadata": {},
   "source": [
    "* By assuming this data we clearly state that more fatalities are occured \n",
    "* Survival count is very low with respect to fatalities\n",
    "* In a certain there are few incidents on ground which caused highest amount of deaths\n",
    "* Very few incidents have more survivals than fatalities"
   ]
  },
  {
   "cell_type": "code",
   "execution_count": 301,
   "id": "e865e21f",
   "metadata": {},
   "outputs": [
    {
     "data": {
      "text/html": [
       "<div>\n",
       "<style scoped>\n",
       "    .dataframe tbody tr th:only-of-type {\n",
       "        vertical-align: middle;\n",
       "    }\n",
       "\n",
       "    .dataframe tbody tr th {\n",
       "        vertical-align: top;\n",
       "    }\n",
       "\n",
       "    .dataframe thead th {\n",
       "        text-align: right;\n",
       "    }\n",
       "</style>\n",
       "<table border=\"1\" class=\"dataframe\">\n",
       "  <thead>\n",
       "    <tr style=\"text-align: right;\">\n",
       "      <th></th>\n",
       "      <th>Date</th>\n",
       "      <th>Location</th>\n",
       "      <th>Operator</th>\n",
       "      <th>Route</th>\n",
       "      <th>Type</th>\n",
       "      <th>Aboard</th>\n",
       "      <th>Fatalities</th>\n",
       "      <th>Ground</th>\n",
       "      <th>Summary</th>\n",
       "      <th>Survived</th>\n",
       "      <th>Month</th>\n",
       "      <th>Year</th>\n",
       "      <th>Decade</th>\n",
       "      <th>Day of Week</th>\n",
       "      <th>Season</th>\n",
       "    </tr>\n",
       "  </thead>\n",
       "  <tbody>\n",
       "    <tr>\n",
       "      <th>0</th>\n",
       "      <td>09/17/1908</td>\n",
       "      <td>Fort Myer, Virginia</td>\n",
       "      <td>Military - U.S. Army</td>\n",
       "      <td>Demonstration</td>\n",
       "      <td>Wright Flyer III</td>\n",
       "      <td>2.0</td>\n",
       "      <td>1.0</td>\n",
       "      <td>0.0</td>\n",
       "      <td>During a demonstration flight, a U.S. Army fly...</td>\n",
       "      <td>1.0</td>\n",
       "      <td>9</td>\n",
       "      <td>1908</td>\n",
       "      <td>1900</td>\n",
       "      <td>Thursday</td>\n",
       "      <td>Rainy</td>\n",
       "    </tr>\n",
       "    <tr>\n",
       "      <th>1</th>\n",
       "      <td>07/12/1912</td>\n",
       "      <td>AtlantiCity, New Jersey</td>\n",
       "      <td>Military - U.S. Navy</td>\n",
       "      <td>Test flight</td>\n",
       "      <td>Dirigible</td>\n",
       "      <td>5.0</td>\n",
       "      <td>5.0</td>\n",
       "      <td>0.0</td>\n",
       "      <td>First U.S. dirigible Akron exploded just offsh...</td>\n",
       "      <td>0.0</td>\n",
       "      <td>7</td>\n",
       "      <td>1912</td>\n",
       "      <td>1910</td>\n",
       "      <td>Friday</td>\n",
       "      <td>Rainy</td>\n",
       "    </tr>\n",
       "    <tr>\n",
       "      <th>2</th>\n",
       "      <td>08/06/1913</td>\n",
       "      <td>Victoria, British Columbia, Canada</td>\n",
       "      <td>Private</td>\n",
       "      <td>Not defined</td>\n",
       "      <td>Curtiss seaplane</td>\n",
       "      <td>1.0</td>\n",
       "      <td>1.0</td>\n",
       "      <td>0.0</td>\n",
       "      <td>The first fatal airplane accident in Canada oc...</td>\n",
       "      <td>0.0</td>\n",
       "      <td>8</td>\n",
       "      <td>1913</td>\n",
       "      <td>1910</td>\n",
       "      <td>Wednesday</td>\n",
       "      <td>Rainy</td>\n",
       "    </tr>\n",
       "    <tr>\n",
       "      <th>3</th>\n",
       "      <td>09/09/1913</td>\n",
       "      <td>Over the North Sea</td>\n",
       "      <td>Military - German Navy</td>\n",
       "      <td>Not defined</td>\n",
       "      <td>Zeppelin L-1 (airship)</td>\n",
       "      <td>20.0</td>\n",
       "      <td>14.0</td>\n",
       "      <td>0.0</td>\n",
       "      <td>The airship flew into a thunderstorm and encou...</td>\n",
       "      <td>6.0</td>\n",
       "      <td>9</td>\n",
       "      <td>1913</td>\n",
       "      <td>1910</td>\n",
       "      <td>Tuesday</td>\n",
       "      <td>Rainy</td>\n",
       "    </tr>\n",
       "    <tr>\n",
       "      <th>4</th>\n",
       "      <td>10/17/1913</td>\n",
       "      <td>Near Johannisthal, Germany</td>\n",
       "      <td>Military - German Navy</td>\n",
       "      <td>Not defined</td>\n",
       "      <td>Zeppelin L-2 (airship)</td>\n",
       "      <td>30.0</td>\n",
       "      <td>30.0</td>\n",
       "      <td>0.0</td>\n",
       "      <td>Hydrogen gas which was being vented was sucked...</td>\n",
       "      <td>0.0</td>\n",
       "      <td>10</td>\n",
       "      <td>1913</td>\n",
       "      <td>1910</td>\n",
       "      <td>Friday</td>\n",
       "      <td>Winter</td>\n",
       "    </tr>\n",
       "  </tbody>\n",
       "</table>\n",
       "</div>"
      ],
      "text/plain": [
       "         Date                            Location                Operator  \\\n",
       "0  09/17/1908                 Fort Myer, Virginia    Military - U.S. Army   \n",
       "1  07/12/1912             AtlantiCity, New Jersey    Military - U.S. Navy   \n",
       "2  08/06/1913  Victoria, British Columbia, Canada                 Private   \n",
       "3  09/09/1913                  Over the North Sea  Military - German Navy   \n",
       "4  10/17/1913          Near Johannisthal, Germany  Military - German Navy   \n",
       "\n",
       "           Route                    Type  Aboard  Fatalities  Ground  \\\n",
       "0  Demonstration        Wright Flyer III     2.0         1.0     0.0   \n",
       "1    Test flight               Dirigible     5.0         5.0     0.0   \n",
       "2    Not defined        Curtiss seaplane     1.0         1.0     0.0   \n",
       "3    Not defined  Zeppelin L-1 (airship)    20.0        14.0     0.0   \n",
       "4    Not defined  Zeppelin L-2 (airship)    30.0        30.0     0.0   \n",
       "\n",
       "                                             Summary  Survived  Month  Year  \\\n",
       "0  During a demonstration flight, a U.S. Army fly...       1.0      9  1908   \n",
       "1  First U.S. dirigible Akron exploded just offsh...       0.0      7  1912   \n",
       "2  The first fatal airplane accident in Canada oc...       0.0      8  1913   \n",
       "3  The airship flew into a thunderstorm and encou...       6.0      9  1913   \n",
       "4  Hydrogen gas which was being vented was sucked...       0.0     10  1913   \n",
       "\n",
       "   Decade Day of Week  Season  \n",
       "0    1900    Thursday   Rainy  \n",
       "1    1910      Friday   Rainy  \n",
       "2    1910   Wednesday   Rainy  \n",
       "3    1910     Tuesday   Rainy  \n",
       "4    1910      Friday  Winter  "
      ]
     },
     "execution_count": 301,
     "metadata": {},
     "output_type": "execute_result"
    }
   ],
   "source": [
    "df.head()"
   ]
  },
  {
   "cell_type": "markdown",
   "id": "84678f01",
   "metadata": {},
   "source": [
    "## <u>Plotting a bar graph to show Crashes per year "
   ]
  },
  {
   "cell_type": "code",
   "execution_count": 302,
   "id": "ff38de9b",
   "metadata": {},
   "outputs": [
    {
     "data": {
      "image/png": "[encoded data removed]",
      "text/plain": [
       "<Figure size 1080x360 with 1 Axes>"
      ]
     },
     "metadata": {},
     "output_type": "display_data"
    }
   ],
   "source": [
    "plt.figure(figsize=(15, 5))\n",
    "per_year_plot = sns.histplot(data = df, x = 'Year', bins = 100, color = \"blue\")\n",
    "per_year_plot.set(title = \"Fig. 1: Crashes per year\")\n",
    "fig = per_year_plot.get_figure()\n",
    "fig.savefig('per_year_plot.png')"
   ]
  },
  {
   "cell_type": "markdown",
   "id": "7f64d79d",
   "metadata": {},
   "source": [
    "* There are very much incidents occured in certain years\n",
    "* After 1940 there is a medium amount of increase in Airplane crashes\n",
    "* While on the other side, there is a tremendous growth in accidents from year 1960 which is near to constant uptil 2000"
   ]
  },
  {
   "cell_type": "markdown",
   "id": "deced940",
   "metadata": {},
   "source": [
    "## <u>Showing fatalities with respect to model of airplanes"
   ]
  },
  {
   "cell_type": "code",
   "execution_count": 303,
   "id": "51f17e60",
   "metadata": {},
   "outputs": [
    {
     "data": {
      "text/html": [
       "<div>\n",
       "<style scoped>\n",
       "    .dataframe tbody tr th:only-of-type {\n",
       "        vertical-align: middle;\n",
       "    }\n",
       "\n",
       "    .dataframe tbody tr th {\n",
       "        vertical-align: top;\n",
       "    }\n",
       "\n",
       "    .dataframe thead th {\n",
       "        text-align: right;\n",
       "    }\n",
       "</style>\n",
       "<table border=\"1\" class=\"dataframe\">\n",
       "  <thead>\n",
       "    <tr style=\"text-align: right;\">\n",
       "      <th></th>\n",
       "      <th>Fatalities</th>\n",
       "    </tr>\n",
       "    <tr>\n",
       "      <th>Type</th>\n",
       "      <th></th>\n",
       "    </tr>\n",
       "  </thead>\n",
       "  <tbody>\n",
       "    <tr>\n",
       "      <th>AAC-1 Toucan</th>\n",
       "      <td>23.0</td>\n",
       "    </tr>\n",
       "    <tr>\n",
       "      <th>AEGK</th>\n",
       "      <td>5.0</td>\n",
       "    </tr>\n",
       "    <tr>\n",
       "      <th>AT L98 Carvair</th>\n",
       "      <td>4.0</td>\n",
       "    </tr>\n",
       "    <tr>\n",
       "      <th>ATR 42-300</th>\n",
       "      <td>2.0</td>\n",
       "    </tr>\n",
       "    <tr>\n",
       "      <th>ATR-42-300</th>\n",
       "      <td>46.0</td>\n",
       "    </tr>\n",
       "    <tr>\n",
       "      <th>...</th>\n",
       "      <td>...</td>\n",
       "    </tr>\n",
       "    <tr>\n",
       "      <th>de Havilland Dove 1</th>\n",
       "      <td>22.0</td>\n",
       "    </tr>\n",
       "    <tr>\n",
       "      <th>de Havilland Dragon 1</th>\n",
       "      <td>3.0</td>\n",
       "    </tr>\n",
       "    <tr>\n",
       "      <th>de Havilland RU-6A Beaver /Bell UH-1H</th>\n",
       "      <td>18.0</td>\n",
       "    </tr>\n",
       "    <tr>\n",
       "      <th>de havilland Canada Twin Otter 200</th>\n",
       "      <td>11.0</td>\n",
       "    </tr>\n",
       "    <tr>\n",
       "      <th>deHavilland DH-86</th>\n",
       "      <td>9.0</td>\n",
       "    </tr>\n",
       "  </tbody>\n",
       "</table>\n",
       "<p>2447 rows × 1 columns</p>\n",
       "</div>"
      ],
      "text/plain": [
       "                                       Fatalities\n",
       "Type                                             \n",
       "AAC-1 Toucan                                 23.0\n",
       "AEGK                                          5.0\n",
       "AT L98 Carvair                                4.0\n",
       "ATR 42-300                                    2.0\n",
       "ATR-42-300                                   46.0\n",
       "...                                           ...\n",
       "de Havilland Dove 1                          22.0\n",
       "de Havilland Dragon 1                         3.0\n",
       "de Havilland RU-6A Beaver /Bell UH-1H        18.0\n",
       "de havilland Canada Twin Otter 200           11.0\n",
       "deHavilland DH-86                             9.0\n",
       "\n",
       "[2447 rows x 1 columns]"
      ]
     },
     "execution_count": 303,
     "metadata": {},
     "output_type": "execute_result"
    }
   ],
   "source": [
    "df_fatal = df.groupby('Type')[['Fatalities']].sum()\n",
    "df_fatal"
   ]
  },
  {
   "cell_type": "markdown",
   "id": "38719830",
   "metadata": {},
   "source": [
    "* This shows the accidents in all certain models of airplanes which are present in data\n",
    "* By analyzing it shows that AAC-1, Atr-42-300 and Bell UH-1H plane types have occured in such accidents the most"
   ]
  },
  {
   "cell_type": "markdown",
   "id": "335697c3",
   "metadata": {},
   "source": [
    "## <u>Showing Top 10 Type of airplanes as per accidents"
   ]
  },
  {
   "cell_type": "code",
   "execution_count": 304,
   "id": "9cb52a0f",
   "metadata": {},
   "outputs": [
    {
     "data": {
      "text/html": [
       "<div>\n",
       "<style scoped>\n",
       "    .dataframe tbody tr th:only-of-type {\n",
       "        vertical-align: middle;\n",
       "    }\n",
       "\n",
       "    .dataframe tbody tr th {\n",
       "        vertical-align: top;\n",
       "    }\n",
       "\n",
       "    .dataframe thead th {\n",
       "        text-align: right;\n",
       "    }\n",
       "</style>\n",
       "<table border=\"1\" class=\"dataframe\">\n",
       "  <thead>\n",
       "    <tr style=\"text-align: right;\">\n",
       "      <th></th>\n",
       "      <th>Fatalities</th>\n",
       "    </tr>\n",
       "    <tr>\n",
       "      <th>Type</th>\n",
       "      <th></th>\n",
       "    </tr>\n",
       "  </thead>\n",
       "  <tbody>\n",
       "    <tr>\n",
       "      <th>AAC-1 Toucan</th>\n",
       "      <td>23.0</td>\n",
       "    </tr>\n",
       "    <tr>\n",
       "      <th>AEGK</th>\n",
       "      <td>5.0</td>\n",
       "    </tr>\n",
       "    <tr>\n",
       "      <th>AT L98 Carvair</th>\n",
       "      <td>4.0</td>\n",
       "    </tr>\n",
       "    <tr>\n",
       "      <th>ATR 42-300</th>\n",
       "      <td>2.0</td>\n",
       "    </tr>\n",
       "    <tr>\n",
       "      <th>ATR-42-300</th>\n",
       "      <td>46.0</td>\n",
       "    </tr>\n",
       "    <tr>\n",
       "      <th>ATR-72-202</th>\n",
       "      <td>16.0</td>\n",
       "    </tr>\n",
       "    <tr>\n",
       "      <th>ATR-72-212</th>\n",
       "      <td>68.0</td>\n",
       "    </tr>\n",
       "    <tr>\n",
       "      <th>Aermacchi MB-339PAN (3 aircraft)</th>\n",
       "      <td>3.0</td>\n",
       "    </tr>\n",
       "    <tr>\n",
       "      <th>Aero Commander  520</th>\n",
       "      <td>6.0</td>\n",
       "    </tr>\n",
       "    <tr>\n",
       "      <th>Aero Commander 500-B</th>\n",
       "      <td>2.0</td>\n",
       "    </tr>\n",
       "  </tbody>\n",
       "</table>\n",
       "</div>"
      ],
      "text/plain": [
       "                                  Fatalities\n",
       "Type                                        \n",
       "AAC-1 Toucan                            23.0\n",
       "AEGK                                     5.0\n",
       "AT L98 Carvair                           4.0\n",
       "ATR 42-300                               2.0\n",
       "ATR-42-300                              46.0\n",
       "ATR-72-202                              16.0\n",
       "ATR-72-212                              68.0\n",
       "Aermacchi MB-339PAN (3 aircraft)         3.0\n",
       "Aero Commander  520                      6.0\n",
       "Aero Commander 500-B                     2.0"
      ]
     },
     "execution_count": 304,
     "metadata": {},
     "output_type": "execute_result"
    }
   ],
   "source": [
    "df_fatal = df_fatal.rename(columns={'Type': 'Fatalities'})\n",
    "df_type_fatal = df_fatal.sort_values(by='Fatalities')\n",
    "df_type_fatal_top10 = df_fatal.head(10) \n",
    "df_type_fatal_top10"
   ]
  },
  {
   "cell_type": "markdown",
   "id": "c0044849",
   "metadata": {},
   "source": [
    "* The ATR models have faced more situations than other models \n",
    "* As we can see ATR-42-300 and ATR-72-212 have most accidents followed type AAC-1 Toucan\n",
    "* As the other side Aero commander types has the least accidents than other airplane types"
   ]
  },
  {
   "cell_type": "markdown",
   "id": "d37fc922",
   "metadata": {},
   "source": [
    "## <u>Plotting bar graph to see in detail about Types of models of airplanes and fatalities caused by them"
   ]
  },
  {
   "cell_type": "code",
   "execution_count": 305,
   "id": "43145ca6",
   "metadata": {},
   "outputs": [
    {
     "data": {
      "image/png": "[encoded data removed]",
      "text/plain": [
       "<Figure size 1080x360 with 1 Axes>"
      ]
     },
     "metadata": {},
     "output_type": "display_data"
    }
   ],
   "source": [
    "plt.figure(figsize=(15, 5))\n",
    "sns.barplot(y=df_type_fatal_top10.index, x=\"Fatalities\", data=df_type_fatal_top10, palette=\"bright\")\n",
    "plt.xlabel('Total Fatalities')\n",
    "plt.ylabel('Airplane Model')\n",
    "plt.title('Total fatalities per airplane model')\n",
    "plt.show()"
   ]
  },
  {
   "cell_type": "markdown",
   "id": "83b42ba3",
   "metadata": {},
   "source": [
    "* By seeing the above graph we can state that ATR-72-212 has the highest amount of fatalities which is 68\n",
    "* While compared Aero Commander 500-B and ATR-42-300 has the least amount of deaths i.e. 2"
   ]
  },
  {
   "cell_type": "markdown",
   "id": "a5f34904",
   "metadata": {},
   "source": [
    "## <u>Creating a column Total death for further plottings"
   ]
  },
  {
   "cell_type": "code",
   "execution_count": 306,
   "id": "afefa136",
   "metadata": {},
   "outputs": [
    {
     "data": {
      "text/html": [
       "<div>\n",
       "<style scoped>\n",
       "    .dataframe tbody tr th:only-of-type {\n",
       "        vertical-align: middle;\n",
       "    }\n",
       "\n",
       "    .dataframe tbody tr th {\n",
       "        vertical-align: top;\n",
       "    }\n",
       "\n",
       "    .dataframe thead th {\n",
       "        text-align: right;\n",
       "    }\n",
       "</style>\n",
       "<table border=\"1\" class=\"dataframe\">\n",
       "  <thead>\n",
       "    <tr style=\"text-align: right;\">\n",
       "      <th></th>\n",
       "      <th>Date</th>\n",
       "      <th>Location</th>\n",
       "      <th>Operator</th>\n",
       "      <th>Route</th>\n",
       "      <th>Type</th>\n",
       "      <th>Aboard</th>\n",
       "      <th>Fatalities</th>\n",
       "      <th>Ground</th>\n",
       "      <th>Summary</th>\n",
       "      <th>Survived</th>\n",
       "      <th>Month</th>\n",
       "      <th>Year</th>\n",
       "      <th>Decade</th>\n",
       "      <th>Day of Week</th>\n",
       "      <th>Season</th>\n",
       "      <th>Total Death</th>\n",
       "    </tr>\n",
       "  </thead>\n",
       "  <tbody>\n",
       "    <tr>\n",
       "      <th>0</th>\n",
       "      <td>09/17/1908</td>\n",
       "      <td>Fort Myer, Virginia</td>\n",
       "      <td>Military - U.S. Army</td>\n",
       "      <td>Demonstration</td>\n",
       "      <td>Wright Flyer III</td>\n",
       "      <td>2.0</td>\n",
       "      <td>1.0</td>\n",
       "      <td>0.0</td>\n",
       "      <td>During a demonstration flight, a U.S. Army fly...</td>\n",
       "      <td>1.0</td>\n",
       "      <td>9</td>\n",
       "      <td>1908</td>\n",
       "      <td>1900</td>\n",
       "      <td>Thursday</td>\n",
       "      <td>Rainy</td>\n",
       "      <td>1.0</td>\n",
       "    </tr>\n",
       "    <tr>\n",
       "      <th>1</th>\n",
       "      <td>07/12/1912</td>\n",
       "      <td>AtlantiCity, New Jersey</td>\n",
       "      <td>Military - U.S. Navy</td>\n",
       "      <td>Test flight</td>\n",
       "      <td>Dirigible</td>\n",
       "      <td>5.0</td>\n",
       "      <td>5.0</td>\n",
       "      <td>0.0</td>\n",
       "      <td>First U.S. dirigible Akron exploded just offsh...</td>\n",
       "      <td>0.0</td>\n",
       "      <td>7</td>\n",
       "      <td>1912</td>\n",
       "      <td>1910</td>\n",
       "      <td>Friday</td>\n",
       "      <td>Rainy</td>\n",
       "      <td>5.0</td>\n",
       "    </tr>\n",
       "    <tr>\n",
       "      <th>2</th>\n",
       "      <td>08/06/1913</td>\n",
       "      <td>Victoria, British Columbia, Canada</td>\n",
       "      <td>Private</td>\n",
       "      <td>Not defined</td>\n",
       "      <td>Curtiss seaplane</td>\n",
       "      <td>1.0</td>\n",
       "      <td>1.0</td>\n",
       "      <td>0.0</td>\n",
       "      <td>The first fatal airplane accident in Canada oc...</td>\n",
       "      <td>0.0</td>\n",
       "      <td>8</td>\n",
       "      <td>1913</td>\n",
       "      <td>1910</td>\n",
       "      <td>Wednesday</td>\n",
       "      <td>Rainy</td>\n",
       "      <td>1.0</td>\n",
       "    </tr>\n",
       "    <tr>\n",
       "      <th>3</th>\n",
       "      <td>09/09/1913</td>\n",
       "      <td>Over the North Sea</td>\n",
       "      <td>Military - German Navy</td>\n",
       "      <td>Not defined</td>\n",
       "      <td>Zeppelin L-1 (airship)</td>\n",
       "      <td>20.0</td>\n",
       "      <td>14.0</td>\n",
       "      <td>0.0</td>\n",
       "      <td>The airship flew into a thunderstorm and encou...</td>\n",
       "      <td>6.0</td>\n",
       "      <td>9</td>\n",
       "      <td>1913</td>\n",
       "      <td>1910</td>\n",
       "      <td>Tuesday</td>\n",
       "      <td>Rainy</td>\n",
       "      <td>14.0</td>\n",
       "    </tr>\n",
       "    <tr>\n",
       "      <th>4</th>\n",
       "      <td>10/17/1913</td>\n",
       "      <td>Near Johannisthal, Germany</td>\n",
       "      <td>Military - German Navy</td>\n",
       "      <td>Not defined</td>\n",
       "      <td>Zeppelin L-2 (airship)</td>\n",
       "      <td>30.0</td>\n",
       "      <td>30.0</td>\n",
       "      <td>0.0</td>\n",
       "      <td>Hydrogen gas which was being vented was sucked...</td>\n",
       "      <td>0.0</td>\n",
       "      <td>10</td>\n",
       "      <td>1913</td>\n",
       "      <td>1910</td>\n",
       "      <td>Friday</td>\n",
       "      <td>Winter</td>\n",
       "      <td>30.0</td>\n",
       "    </tr>\n",
       "  </tbody>\n",
       "</table>\n",
       "</div>"
      ],
      "text/plain": [
       "         Date                            Location                Operator  \\\n",
       "0  09/17/1908                 Fort Myer, Virginia    Military - U.S. Army   \n",
       "1  07/12/1912             AtlantiCity, New Jersey    Military - U.S. Navy   \n",
       "2  08/06/1913  Victoria, British Columbia, Canada                 Private   \n",
       "3  09/09/1913                  Over the North Sea  Military - German Navy   \n",
       "4  10/17/1913          Near Johannisthal, Germany  Military - German Navy   \n",
       "\n",
       "           Route                    Type  Aboard  Fatalities  Ground  \\\n",
       "0  Demonstration        Wright Flyer III     2.0         1.0     0.0   \n",
       "1    Test flight               Dirigible     5.0         5.0     0.0   \n",
       "2    Not defined        Curtiss seaplane     1.0         1.0     0.0   \n",
       "3    Not defined  Zeppelin L-1 (airship)    20.0        14.0     0.0   \n",
       "4    Not defined  Zeppelin L-2 (airship)    30.0        30.0     0.0   \n",
       "\n",
       "                                             Summary  Survived  Month  Year  \\\n",
       "0  During a demonstration flight, a U.S. Army fly...       1.0      9  1908   \n",
       "1  First U.S. dirigible Akron exploded just offsh...       0.0      7  1912   \n",
       "2  The first fatal airplane accident in Canada oc...       0.0      8  1913   \n",
       "3  The airship flew into a thunderstorm and encou...       6.0      9  1913   \n",
       "4  Hydrogen gas which was being vented was sucked...       0.0     10  1913   \n",
       "\n",
       "   Decade Day of Week  Season  Total Death  \n",
       "0    1900    Thursday   Rainy          1.0  \n",
       "1    1910      Friday   Rainy          5.0  \n",
       "2    1910   Wednesday   Rainy          1.0  \n",
       "3    1910     Tuesday   Rainy         14.0  \n",
       "4    1910      Friday  Winter         30.0  "
      ]
     },
     "execution_count": 306,
     "metadata": {},
     "output_type": "execute_result"
    }
   ],
   "source": [
    "df[\"Total Death\"] = df[\"Fatalities\"] + df[\"Ground\"]\n",
    "df.head()"
   ]
  },
  {
   "cell_type": "markdown",
   "id": "c17e6cca",
   "metadata": {},
   "source": [
    "* Total death is a total of fatals in airplane accident and people which died because of plane crash on ground"
   ]
  },
  {
   "cell_type": "markdown",
   "id": "08d844a9",
   "metadata": {},
   "source": [
    "## <u>Showing Top 10 airline operators which result in most total death"
   ]
  },
  {
   "cell_type": "code",
   "execution_count": 307,
   "id": "4b2595c6",
   "metadata": {
    "scrolled": true
   },
   "outputs": [
    {
     "data": {
      "text/html": [
       "<div>\n",
       "<style scoped>\n",
       "    .dataframe tbody tr th:only-of-type {\n",
       "        vertical-align: middle;\n",
       "    }\n",
       "\n",
       "    .dataframe tbody tr th {\n",
       "        vertical-align: top;\n",
       "    }\n",
       "\n",
       "    .dataframe thead th {\n",
       "        text-align: right;\n",
       "    }\n",
       "</style>\n",
       "<table border=\"1\" class=\"dataframe\">\n",
       "  <thead>\n",
       "    <tr style=\"text-align: right;\">\n",
       "      <th></th>\n",
       "      <th>Total Death</th>\n",
       "    </tr>\n",
       "    <tr>\n",
       "      <th>Operator</th>\n",
       "      <th></th>\n",
       "    </tr>\n",
       "  </thead>\n",
       "  <tbody>\n",
       "    <tr>\n",
       "      <th>Aeroflot</th>\n",
       "      <td>7184.0</td>\n",
       "    </tr>\n",
       "    <tr>\n",
       "      <th>American Airlines</th>\n",
       "      <td>4310.0</td>\n",
       "    </tr>\n",
       "    <tr>\n",
       "      <th>Military - U.S. Air Force</th>\n",
       "      <td>3866.0</td>\n",
       "    </tr>\n",
       "    <tr>\n",
       "      <th>United Air Lines</th>\n",
       "      <td>3770.0</td>\n",
       "    </tr>\n",
       "    <tr>\n",
       "      <th>Air France</th>\n",
       "      <td>1739.0</td>\n",
       "    </tr>\n",
       "    <tr>\n",
       "      <th>Pan American World Airways</th>\n",
       "      <td>1322.0</td>\n",
       "    </tr>\n",
       "    <tr>\n",
       "      <th>Military - U.S. Army Air Forces</th>\n",
       "      <td>1150.0</td>\n",
       "    </tr>\n",
       "    <tr>\n",
       "      <th>AVIANCA</th>\n",
       "      <td>944.0</td>\n",
       "    </tr>\n",
       "    <tr>\n",
       "      <th>Turkish Airlines (THY)</th>\n",
       "      <td>891.0</td>\n",
       "    </tr>\n",
       "    <tr>\n",
       "      <th>Indian Airlines</th>\n",
       "      <td>870.0</td>\n",
       "    </tr>\n",
       "  </tbody>\n",
       "</table>\n",
       "</div>"
      ],
      "text/plain": [
       "                                 Total Death\n",
       "Operator                                    \n",
       "Aeroflot                              7184.0\n",
       "American Airlines                     4310.0\n",
       "Military - U.S. Air Force             3866.0\n",
       "United Air Lines                      3770.0\n",
       "Air France                            1739.0\n",
       "Pan American World Airways            1322.0\n",
       "Military - U.S. Army Air Forces       1150.0\n",
       "AVIANCA                                944.0\n",
       "Turkish Airlines (THY)                 891.0\n",
       "Indian Airlines                        870.0"
      ]
     },
     "execution_count": 307,
     "metadata": {},
     "output_type": "execute_result"
    }
   ],
   "source": [
    "df_death_airline = df.groupby('Operator')[['Total Death']].sum() \n",
    "df_death_airline = df_death_airline.sort_values(by='Total Death', ascending=False)\n",
    "df_death_airline_top10 = df_death_airline.head(10)\n",
    "\n",
    "df_death_airline_top10"
   ]
  },
  {
   "cell_type": "markdown",
   "id": "2464758f",
   "metadata": {},
   "source": [
    "* As we can see Aeroloft has caused most amount of deaths which 7184 followed by American Airline \n",
    "* Also note the point that Indian Airlines has the least amount of deaths throughout all 10\n",
    "* Also there is high amount of difference in total death between Aeroloft and American Airlines"
   ]
  },
  {
   "cell_type": "markdown",
   "id": "ed18b242",
   "metadata": {},
   "source": [
    "## <u>Plotting Bar Graph for showing above data in detail "
   ]
  },
  {
   "cell_type": "code",
   "execution_count": 308,
   "id": "967bf42b",
   "metadata": {},
   "outputs": [
    {
     "data": {
      "image/png": "[encoded data removed]",
      "text/plain": [
       "<Figure size 1080x360 with 1 Axes>"
      ]
     },
     "metadata": {},
     "output_type": "display_data"
    }
   ],
   "source": [
    "plt.figure(figsize=(15, 5))\n",
    "sns.barplot(y=df_death_airline_top10.index, x=\"Total Death\", data=df_death_airline_top10, palette=\"bright\")\n",
    "plt.xlabel('Total Death')\n",
    "plt.ylabel('Airline Operator')\n",
    "plt.title('Fig. 3: Total death per airline operator')\n",
    "plt.show()"
   ]
  },
  {
   "cell_type": "markdown",
   "id": "43195287",
   "metadata": {},
   "source": [
    "* As we can see there is growth in total death in American company operators airplanes"
   ]
  },
  {
   "cell_type": "code",
   "execution_count": null,
   "id": "10823940",
   "metadata": {},
   "outputs": [],
   "source": []
  }
 ],
 "metadata": {
  "kernelspec": {
   "display_name": "Python 3 (ipykernel)",
   "language": "python",
   "name": "python3"
  },
  "language_info": {
   "codemirror_mode": {
    "name": "ipython",
    "version": 3
   },
   "file_extension": ".py",
   "mimetype": "text/x-python",
   "name": "python",
   "nbconvert_exporter": "python",
   "pygments_lexer": "ipython3",
   "version": "3.10.5"
  }
 },
 "nbformat": 4,
 "nbformat_minor": 5
}
